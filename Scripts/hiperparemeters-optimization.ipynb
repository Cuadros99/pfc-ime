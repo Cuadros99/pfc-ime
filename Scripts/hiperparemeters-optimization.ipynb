{
 "cells": [
  {
   "cell_type": "code",
   "execution_count": 1,
   "metadata": {},
   "outputs": [],
   "source": [
    "import pandas as pd\n",
    "import numpy as np\n",
    "from sklearn.model_selection import train_test_split, StratifiedKFold, GridSearchCV\n",
    "from sklearn.ensemble import RandomForestClassifier, AdaBoostClassifier\n",
    "from sklearn.metrics import make_scorer, fbeta_score, precision_score, precision_recall_curve, auc, roc_curve\n",
    "from sklearn.preprocessing import StandardScaler\n",
    "from xgboost import XGBClassifier\n",
    "import os"
   ]
  },
  {
   "cell_type": "code",
   "execution_count": 2,
   "metadata": {},
   "outputs": [
    {
     "data": {
      "text/plain": [
       "['test_dataset_treated.parquet',\n",
       " 'train_dataset_treated.parquet',\n",
       " '.ipynb_checkpoints']"
      ]
     },
     "execution_count": 2,
     "metadata": {},
     "output_type": "execute_result"
    }
   ],
   "source": [
    "dir_path = '../Datasets/CSE-CIC-IDS2018/pre-processed/2024-07-28_22-48-48/'\n",
    "os.listdir(dir_path)"
   ]
  },
  {
   "cell_type": "code",
   "execution_count": 3,
   "metadata": {},
   "outputs": [],
   "source": [
    "train_df = pd.read_parquet(os.path.join(dir_path, 'train_dataset_treated.parquet'))\n",
    "test_df = pd.read_parquet(os.path.join(dir_path, 'test_dataset_treated.parquet'))"
   ]
  },
  {
   "cell_type": "code",
   "execution_count": 4,
   "metadata": {},
   "outputs": [],
   "source": [
    "# Separação das features e do target para o dataset de treino\n",
    "X_train = train_df.drop('Label', axis=1)\n",
    "y_train = train_df['Label']"
   ]
  },
  {
   "cell_type": "code",
   "execution_count": 5,
   "metadata": {},
   "outputs": [],
   "source": [
    "# Separação das features e do target para o dataset de teste\n",
    "X_test = test_df.drop('Label', axis=1)\n",
    "y_test = test_df['Label']"
   ]
  },
  {
   "cell_type": "code",
   "execution_count": 6,
   "metadata": {},
   "outputs": [],
   "source": [
    "# Definição da métrica F2\n",
    "f2_scorer = make_scorer(fbeta_score, beta=2)"
   ]
  },
  {
   "cell_type": "code",
   "execution_count": 7,
   "metadata": {},
   "outputs": [],
   "source": [
    "# Configuração da validação cruzada estratificada\n",
    "cv = StratifiedKFold(n_splits=5, shuffle=True, random_state=42)"
   ]
  },
  {
   "cell_type": "code",
   "execution_count": 15,
   "metadata": {},
   "outputs": [],
   "source": [
    "def grid_search(model, param_grid):\n",
    "    grid_search = GridSearchCV(estimator=model, param_grid=param_grid, scoring=f2_scorer, cv=cv, n_jobs=-1)\n",
    "    grid_search.fit(X_train, y_train)\n",
    "\n",
    "    # Melhores parâmetros e melhor score\n",
    "    best_params = grid_search.best_params_\n",
    "    best_score = grid_search.best_score_\n",
    "\n",
    "    print(f'Melhores parâmetros: {best_params}')\n",
    "    print(f'Melhor F2 score durante a validação cruzada: {best_score}')\n",
    "\n",
    "    return grid_search\n",
    "    "
   ]
  },
  {
   "cell_type": "code",
   "execution_count": null,
   "metadata": {},
   "outputs": [],
   "source": [
    "def predict_test(grid_search):\n",
    "    # Avaliação do modelo no conjunto de teste\n",
    "    best_model = grid_search.best_estimator_\n",
    "    y_pred = best_model.predict(X_test)\n",
    "    y_pred_proba = best_model.predict_proba(X_test)[:, 1]\n",
    "    \n",
    "    return y_pred, y_pred_proba"
   ]
  },
  {
   "cell_type": "code",
   "execution_count": null,
   "metadata": {},
   "outputs": [],
   "source": [
    "def get_metrics(y_pred):\n",
    "    metrics = {}\n",
    "    # Cálculo das métricas\n",
    "    metrics['f2_test_score'] = fbeta_score(y_test, y_pred, beta=2)\n",
    "    metrics['precision'] = precision_score(y_test, y_pred)\n",
    "    metrics['precision_vals'], metrics['recall_vals'], _ = precision_recall_curve(y_test, y_pred_proba)\n",
    "    metrics['prauc'] = auc(metrics['recall_vals'], metrics['precision_vals'])\n",
    "    metrics['fpr'], metrics['tpr'], _ = roc_curve(y_test, y_pred_proba)\n",
    "    metrics['false_positive_rate'] =  metrics['fpr'][0]\n",
    "    return metrics"
   ]
  },
  {
   "cell_type": "markdown",
   "metadata": {},
   "source": [
    "## Definições das matrizes de hiperparâmetros"
   ]
  },
  {
   "cell_type": "code",
   "execution_count": 10,
   "metadata": {},
   "outputs": [],
   "source": [
    "# Definição do Random Forest e dos hiperparâmetros para Grid Search\n",
    "rf = RandomForestClassifier(random_state=42)\n",
    "param_grid = {\n",
    "    'n_estimators': [100, 200, 300],\n",
    "    # 'max_depth': [None, 10, 20, 30],\n",
    "    # 'min_samples_split': [2, 5, 10],\n",
    "    #'min_samples_leaf': [1, 2, 4]\n",
    "}"
   ]
  },
  {
   "cell_type": "code",
   "execution_count": null,
   "metadata": {},
   "outputs": [],
   "source": [
    "# Definição do AdaBoost e dos hiperparâmetros para Grid Search\n",
    "adb = AdaBoostClassifier(random_state=42)\n",
    "param_grid = {\n",
    "    'n_estimators': [50, 100, 200],\n",
    "    # 'learning_rate': [0.01, 0.1, 1.0]\n",
    "}"
   ]
  },
  {
   "cell_type": "code",
   "execution_count": null,
   "metadata": {},
   "outputs": [],
   "source": [
    "# Definição do XGBoost e dos hiperparâmetros para Grid Search\n",
    "xgb = XGBClassifier(random_state=42, use_label_encoder=False, eval_metric='logloss')\n",
    "param_grid = {\n",
    "    'n_estimators': [100, 200, 300],\n",
    "    'max_depth': [3, 6, 9],\n",
    "    'learning_rate': [0.01, 0.1, 0.2],\n",
    "    'subsample': [0.8, 0.9, 1.0],\n",
    "    'colsample_bytree': [0.8, 0.9, 1.0]\n",
    "}"
   ]
  },
  {
   "cell_type": "markdown",
   "metadata": {},
   "source": [
    "## Otimização de Hiperparâmetros"
   ]
  },
  {
   "cell_type": "code",
   "execution_count": null,
   "metadata": {},
   "outputs": [],
   "source": [
    "gs_rf = grid_search(rf, param_grid)"
   ]
  },
  {
   "cell_type": "code",
   "execution_count": 29,
   "metadata": {},
   "outputs": [
    {
     "data": {
      "text/plain": [
       "{'n_estimators': 300}"
      ]
     },
     "execution_count": 29,
     "metadata": {},
     "output_type": "execute_result"
    }
   ],
   "source": [
    "gs_rf.best_params_"
   ]
  },
  {
   "cell_type": "code",
   "execution_count": 30,
   "metadata": {},
   "outputs": [
    {
     "data": {
      "text/plain": [
       "0.9627046480129355"
      ]
     },
     "execution_count": 30,
     "metadata": {},
     "output_type": "execute_result"
    }
   ],
   "source": [
    "gs_rf.best_score_"
   ]
  },
  {
   "cell_type": "code",
   "execution_count": 44,
   "metadata": {},
   "outputs": [],
   "source": [
    "y_pred_rf, y_pred_proba_rf = predict_test(gs_rf)"
   ]
  },
  {
   "cell_type": "code",
   "execution_count": 45,
   "metadata": {},
   "outputs": [
    {
     "data": {
      "text/plain": [
       "{'f2_test_score': 0.9401357532558307,\n",
       " 'precision': 0.9602992652391914,\n",
       " 'precision_vals': array([0.26318772, 0.28925582, 0.30221248, ..., 0.99219528, 0.99217579,\n",
       "        1.        ]),\n",
       " 'recall_vals': array([1.        , 0.99979884, 0.99979884, ..., 0.00917504, 0.00915201,\n",
       "        0.        ]),\n",
       " 'prauc': 0.9803298398223443,\n",
       " 'fpr': array([0.00000000e+00, 2.57796422e-05, 2.57796422e-05, ...,\n",
       "        8.24578859e-01, 8.77511047e-01, 1.00000000e+00]),\n",
       " 'tpr': array([0.        , 0.00915201, 0.00917504, ..., 0.99979884, 0.99979884,\n",
       "        1.        ]),\n",
       " 'false_positive_rate': 0.0}"
      ]
     },
     "execution_count": 45,
     "metadata": {},
     "output_type": "execute_result"
    }
   ],
   "source": [
    "metrics_rf = get_metrics(y_pred_rf)"
   ]
  },
  {
   "cell_type": "code",
   "execution_count": null,
   "metadata": {
    "collapsed": true,
    "jupyter": {
     "outputs_hidden": true
    }
   },
   "outputs": [],
   "source": [
    "gs_adb = grid_search(adb, param_grid)"
   ]
  },
  {
   "cell_type": "code",
   "execution_count": 18,
   "metadata": {},
   "outputs": [],
   "source": [
    "y_pred_adb, y_pred_proba_adb = predict_test(gs_adb)"
   ]
  },
  {
   "cell_type": "code",
   "execution_count": 21,
   "metadata": {},
   "outputs": [
    {
     "data": {
      "text/plain": [
       "{'n_estimators': 200}"
      ]
     },
     "execution_count": 21,
     "metadata": {},
     "output_type": "execute_result"
    }
   ],
   "source": [
    "gs_adb.best_params_"
   ]
  },
  {
   "cell_type": "code",
   "execution_count": 19,
   "metadata": {},
   "outputs": [
    {
     "data": {
      "text/plain": [
       "{'f2_test_score': 0.9386160875941832,\n",
       " 'precision': 0.9518063817519583,\n",
       " 'precision_vals': array([0.26318772, 0.26318782, 0.26318793, ..., 1.        , 1.        ,\n",
       "        1.        ]),\n",
       " 'recall_vals': array([1.        , 1.        , 1.        , ..., 0.07397312, 0.03722381,\n",
       "        0.        ]),\n",
       " 'prauc': 0.975866486810271,\n",
       " 'fpr': array([0.        , 0.        , 0.        , ..., 0.99999561, 0.99999835,\n",
       "        1.        ]),\n",
       " 'tpr': array([0.        , 0.03722381, 0.07397312, ..., 1.        , 1.        ,\n",
       "        1.        ]),\n",
       " 'false_positive_rate': 0.0}"
      ]
     },
     "execution_count": 19,
     "metadata": {},
     "output_type": "execute_result"
    }
   ],
   "source": [
    "metrics_adb = get_metrics(y_pred_adb)\n",
    "metrics_adb"
   ]
  },
  {
   "cell_type": "code",
   "execution_count": null,
   "metadata": {},
   "outputs": [],
   "source": [
    "gs_xgb = grid_search(xgb, param_grid)"
   ]
  },
  {
   "cell_type": "code",
   "execution_count": null,
   "metadata": {},
   "outputs": [],
   "source": [
    "gs_xgb.best_params_"
   ]
  },
  {
   "cell_type": "code",
   "execution_count": null,
   "metadata": {},
   "outputs": [],
   "source": [
    "gs_xgb.best_score_"
   ]
  },
  {
   "cell_type": "code",
   "execution_count": null,
   "metadata": {},
   "outputs": [],
   "source": [
    "y_pred_xgb, y_pred_proba_xgb = predict_test(gs_xgb)"
   ]
  },
  {
   "cell_type": "code",
   "execution_count": null,
   "metadata": {},
   "outputs": [],
   "source": [
    "metrics_xgb = get_metrics(y_pred_xgb)"
   ]
  }
 ],
 "metadata": {
  "kernelspec": {
   "display_name": "Python 3 (ipykernel)",
   "language": "python",
   "name": "python3"
  },
  "language_info": {
   "codemirror_mode": {
    "name": "ipython",
    "version": 3
   },
   "file_extension": ".py",
   "mimetype": "text/x-python",
   "name": "python",
   "nbconvert_exporter": "python",
   "pygments_lexer": "ipython3",
   "version": "3.10.12"
  }
 },
 "nbformat": 4,
 "nbformat_minor": 4
}
