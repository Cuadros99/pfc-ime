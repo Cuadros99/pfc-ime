{
 "cells": [
  {
   "cell_type": "code",
   "execution_count": 1,
   "metadata": {},
   "outputs": [],
   "source": [
    "from sklearn.model_selection import train_test_split\n",
    "from sklearn.impute import KNNImputer, SimpleImputer\n",
    "from sklearn.preprocessing import PowerTransformer, MinMaxScaler\n",
    "from sklearn.covariance import EllipticEnvelope\n",
    "from imblearn.over_sampling import SMOTE\n",
    "import numpy as np\n",
    "import pandas as pd\n",
    "from datetime import datetime\n",
    "import os\n",
    "import pickle\n",
    "import gc\n",
    "import pandas as pd\n",
    "import numpy as np\n",
    "import psutil"
   ]
  },
  {
   "cell_type": "code",
   "execution_count": 2,
   "metadata": {},
   "outputs": [],
   "source": [
    "pd.set_option('display.max_rows', None, 'display.max_columns', None)"
   ]
  },
  {
   "cell_type": "markdown",
   "metadata": {},
   "source": [
    "## Carregar dataset"
   ]
  },
  {
   "cell_type": "code",
   "execution_count": 3,
   "metadata": {},
   "outputs": [
    {
     "data": {
      "text/plain": [
       "['03-02-2018.csv',\n",
       " '02-14-2018.csv',\n",
       " '02-22-2018.csv',\n",
       " '03-01-2018.csv',\n",
       " '02-16-2018.csv',\n",
       " '02-23-2018.csv',\n",
       " '02-20-2018.csv',\n",
       " '02-15-2018.csv',\n",
       " '.ipynb_checkpoints',\n",
       " '02-21-2018.csv',\n",
       " '02-28-2018.csv']"
      ]
     },
     "execution_count": 3,
     "metadata": {},
     "output_type": "execute_result"
    }
   ],
   "source": [
    "dataset_dir_path = './../Datasets/CSE-CIC-IDS2018/raw'\n",
    "files_name_list = os.listdir(dataset_dir_path)\n",
    "os.listdir(dataset_dir_path)"
   ]
  },
  {
   "cell_type": "code",
   "execution_count": 4,
   "metadata": {},
   "outputs": [],
   "source": [
    "df_dataset_list = []\n",
    "for file_name in files_name_list:\n",
    "    if file_name.endswith('.csv'):\n",
    "        file_path = os.path.join(dataset_dir_path, file_name)\n",
    "        df = pd.read_csv(file_path, low_memory=False)\n",
    "        df_dataset_list.append(df)"
   ]
  },
  {
   "cell_type": "code",
   "execution_count": 5,
   "metadata": {},
   "outputs": [],
   "source": [
    "dataset = pd.concat(df_dataset_list, ignore_index=True)"
   ]
  },
  {
   "cell_type": "code",
   "execution_count": 6,
   "metadata": {},
   "outputs": [],
   "source": [
    "# file_pattern = os.path.join(dataset_dir_path,'02-14-2018.csv')\n",
    "# dataset = pd.read_csv(file_pattern)"
   ]
  },
  {
   "cell_type": "code",
   "execution_count": 7,
   "metadata": {},
   "outputs": [
    {
     "name": "stdout",
     "output_type": "stream",
     "text": [
      "Num colunas: 84\n"
     ]
    }
   ],
   "source": [
    "initial_columns = dataset.columns\n",
    "print(f\"Num colunas: {len(initial_columns)}\")"
   ]
  },
  {
   "cell_type": "code",
   "execution_count": 8,
   "metadata": {},
   "outputs": [
    {
     "data": {
      "text/plain": [
       "Index(['Dst Port', 'Protocol', 'Timestamp', 'Flow Duration', 'Tot Fwd Pkts',\n",
       "       'Tot Bwd Pkts', 'TotLen Fwd Pkts', 'TotLen Bwd Pkts', 'Fwd Pkt Len Max',\n",
       "       'Fwd Pkt Len Min', 'Fwd Pkt Len Mean', 'Fwd Pkt Len Std',\n",
       "       'Bwd Pkt Len Max', 'Bwd Pkt Len Min', 'Bwd Pkt Len Mean',\n",
       "       'Bwd Pkt Len Std', 'Flow Byts/s', 'Flow Pkts/s', 'Flow IAT Mean',\n",
       "       'Flow IAT Std', 'Flow IAT Max', 'Flow IAT Min', 'Fwd IAT Tot',\n",
       "       'Fwd IAT Mean', 'Fwd IAT Std', 'Fwd IAT Max', 'Fwd IAT Min',\n",
       "       'Bwd IAT Tot', 'Bwd IAT Mean', 'Bwd IAT Std', 'Bwd IAT Max',\n",
       "       'Bwd IAT Min', 'Fwd PSH Flags', 'Bwd PSH Flags', 'Fwd URG Flags',\n",
       "       'Bwd URG Flags', 'Fwd Header Len', 'Bwd Header Len', 'Fwd Pkts/s',\n",
       "       'Bwd Pkts/s', 'Pkt Len Min', 'Pkt Len Max', 'Pkt Len Mean',\n",
       "       'Pkt Len Std', 'Pkt Len Var', 'FIN Flag Cnt', 'SYN Flag Cnt',\n",
       "       'RST Flag Cnt', 'PSH Flag Cnt', 'ACK Flag Cnt', 'URG Flag Cnt',\n",
       "       'CWE Flag Count', 'ECE Flag Cnt', 'Down/Up Ratio', 'Pkt Size Avg',\n",
       "       'Fwd Seg Size Avg', 'Bwd Seg Size Avg', 'Fwd Byts/b Avg',\n",
       "       'Fwd Pkts/b Avg', 'Fwd Blk Rate Avg', 'Bwd Byts/b Avg',\n",
       "       'Bwd Pkts/b Avg', 'Bwd Blk Rate Avg', 'Subflow Fwd Pkts',\n",
       "       'Subflow Fwd Byts', 'Subflow Bwd Pkts', 'Subflow Bwd Byts',\n",
       "       'Init Fwd Win Byts', 'Init Bwd Win Byts', 'Fwd Act Data Pkts',\n",
       "       'Fwd Seg Size Min', 'Active Mean', 'Active Std', 'Active Max',\n",
       "       'Active Min', 'Idle Mean', 'Idle Std', 'Idle Max', 'Idle Min', 'Label',\n",
       "       'Flow ID', 'Src IP', 'Src Port', 'Dst IP'],\n",
       "      dtype='object')"
      ]
     },
     "execution_count": 8,
     "metadata": {},
     "output_type": "execute_result"
    }
   ],
   "source": [
    "initial_columns"
   ]
  },
  {
   "cell_type": "code",
   "execution_count": 9,
   "metadata": {},
   "outputs": [],
   "source": [
    "columns = initial_columns"
   ]
  },
  {
   "cell_type": "code",
   "execution_count": 10,
   "metadata": {},
   "outputs": [
    {
     "data": {
      "text/plain": [
       "Label\n",
       "Benign                      13484708\n",
       "DDOS attack-HOIC              686012\n",
       "DDoS attacks-LOIC-HTTP        576191\n",
       "DoS attacks-Hulk              461912\n",
       "Bot                           286191\n",
       "FTP-BruteForce                193360\n",
       "SSH-Bruteforce                187589\n",
       "Infilteration                 161934\n",
       "DoS attacks-SlowHTTPTest      139890\n",
       "DoS attacks-GoldenEye          41508\n",
       "DoS attacks-Slowloris          10990\n",
       "DDOS attack-LOIC-UDP            1730\n",
       "Brute Force -Web                 611\n",
       "Brute Force -XSS                 230\n",
       "SQL Injection                     87\n",
       "Label                             59\n",
       "Name: count, dtype: int64"
      ]
     },
     "execution_count": 10,
     "metadata": {},
     "output_type": "execute_result"
    }
   ],
   "source": [
    "dataset[\"Label\"].value_counts()"
   ]
  },
  {
   "cell_type": "code",
   "execution_count": 11,
   "metadata": {},
   "outputs": [],
   "source": [
    "treatment_functions = {}"
   ]
  },
  {
   "cell_type": "markdown",
   "metadata": {},
   "source": [
    "## Redimensionamento da coluna Alvo"
   ]
  },
  {
   "cell_type": "code",
   "execution_count": 12,
   "metadata": {},
   "outputs": [],
   "source": [
    "target_classes = dataset[\"Label\"].value_counts().to_dict()"
   ]
  },
  {
   "cell_type": "markdown",
   "metadata": {},
   "source": [
    "Caso as classes não estejam separadas em 0 (Benígno) e 1 (Malígno) é feito esse redimensionamento"
   ]
  },
  {
   "cell_type": "code",
   "execution_count": 13,
   "metadata": {},
   "outputs": [],
   "source": [
    "classes = target_classes.keys()\n",
    "\n",
    "if not (0 in classes and 1 in classes and len(classes) == 2):\n",
    "    for target in target_classes:\n",
    "        value = 0 if target == \"Benign\"else 1\n",
    "        dataset.replace(to_replace=target, value=value, inplace=True)"
   ]
  },
  {
   "cell_type": "code",
   "execution_count": 14,
   "metadata": {},
   "outputs": [
    {
     "data": {
      "text/plain": [
       "Label\n",
       "0    13484708\n",
       "1     2748294\n",
       "Name: count, dtype: int64"
      ]
     },
     "execution_count": 14,
     "metadata": {},
     "output_type": "execute_result"
    }
   ],
   "source": [
    "dataset[\"Label\"].value_counts()"
   ]
  },
  {
   "cell_type": "markdown",
   "metadata": {},
   "source": [
    "## Tratamento de dados ruidosos"
   ]
  },
  {
   "cell_type": "code",
   "execution_count": null,
   "metadata": {},
   "outputs": [],
   "source": [
    "dataset.replace([np.inf, -np.inf], np.nan, inplace=True)\n",
    "\n",
    "# Deleta a coluna Timestamp\n",
    "dataset.drop(columns=['Timestamp'], inplace=True)\n",
    "columns = np.delete(columns, 2)\n",
    "\n",
    "dataset.dropna(inplace=True)"
   ]
  },
  {
   "cell_type": "code",
   "execution_count": null,
   "metadata": {},
   "outputs": [],
   "source": [
    "print(f\"dataset num columns: {len(dataset.columns)}\")\n",
    "print(f\"columns lenght: {len(columns)}\")"
   ]
  },
  {
   "cell_type": "markdown",
   "metadata": {},
   "source": [
    "## Conversão de tipos incorretos"
   ]
  },
  {
   "cell_type": "code",
   "execution_count": null,
   "metadata": {},
   "outputs": [],
   "source": [
    "#Iterate throught each dataframe in the dictionary\n",
    "for key in dataset.keys():\n",
    "    for col in dataset.columns:\n",
    "        #Check if the datatype of the column is object\n",
    "        if dataset[col].dtype == 'object' and col != 'Label':\n",
    "            # Change all values to numeric, and to NaN if it is a strig\n",
    "            dataset[col] = pd.to_numeric(dataset[col], errors='coerce')"
   ]
  },
  {
   "cell_type": "code",
   "execution_count": null,
   "metadata": {},
   "outputs": [],
   "source": [
    "dataset.replace([np.inf, -np.inf], np.nan, inplace=True)\n",
    "dataset.dropna(inplace=True)"
   ]
  },
  {
   "cell_type": "markdown",
   "metadata": {},
   "source": [
    "## Particionamento estratificado dos dados"
   ]
  },
  {
   "cell_type": "code",
   "execution_count": null,
   "metadata": {},
   "outputs": [],
   "source": [
    "x_train_columns = columns\n",
    "x_test_columns = columns"
   ]
  },
  {
   "cell_type": "code",
   "execution_count": null,
   "metadata": {},
   "outputs": [],
   "source": [
    "dataset_train, dataset_test = train_test_split(dataset, test_size=0.3, stratify=dataset['Label'], random_state=42)"
   ]
  },
  {
   "cell_type": "code",
   "execution_count": null,
   "metadata": {},
   "outputs": [],
   "source": [
    "X_train = dataset_train.drop(columns=['Label'])\n",
    "x_train_columns = np.delete(x_train_columns, -1)\n",
    "Y_train = dataset_train['Label']\n",
    "\n",
    "X_test = dataset_test.drop(columns=['Label'])\n",
    "x_test_columns = np.delete(x_test_columns, -1)\n",
    "Y_test = dataset_test['Label']"
   ]
  },
  {
   "cell_type": "code",
   "execution_count": null,
   "metadata": {},
   "outputs": [],
   "source": [
    "print(len(X_test))\n",
    "print(len(Y_test))"
   ]
  },
  {
   "cell_type": "code",
   "execution_count": null,
   "metadata": {},
   "outputs": [],
   "source": [
    "print(f\"dataset num columns: {len(X_train.columns)}\")\n",
    "print(f\"columns lenght: {len(x_train_columns)}\")"
   ]
  },
  {
   "cell_type": "markdown",
   "metadata": {},
   "source": [
    "## Substituição de dados faltantes"
   ]
  },
  {
   "cell_type": "code",
   "execution_count": null,
   "metadata": {},
   "outputs": [],
   "source": [
    "# Inicializar o KNNImputer\n",
    "# imputer = KNNImputer(n_neighbors=5)\n",
    "\n",
    "# Inicializar o SimpleImputer com a estratégia 'median'\n",
    "imputer = SimpleImputer(strategy='median')"
   ]
  },
  {
   "cell_type": "code",
   "execution_count": null,
   "metadata": {},
   "outputs": [],
   "source": [
    "# Aplicar a imputação nos dados de treino\n",
    "X_train_imputed = imputer.fit_transform(X_train)\n",
    "X_test_imputed = imputer.transform(X_test)"
   ]
  },
  {
   "cell_type": "code",
   "execution_count": null,
   "metadata": {},
   "outputs": [],
   "source": [
    "print(f\"dataset num columns: {len(X_train_imputed[0])}\")\n",
    "print(f\"columns lenght: {len(x_train_columns)}\")"
   ]
  },
  {
   "cell_type": "code",
   "execution_count": null,
   "metadata": {},
   "outputs": [],
   "source": [
    "treatment_functions['inputer'] = imputer.transform"
   ]
  },
  {
   "cell_type": "markdown",
   "metadata": {},
   "source": [
    "## Transformação Yeo-Johnson"
   ]
  },
  {
   "cell_type": "code",
   "execution_count": null,
   "metadata": {},
   "outputs": [],
   "source": [
    "transformer = PowerTransformer(method='yeo-johnson')"
   ]
  },
  {
   "cell_type": "code",
   "execution_count": null,
   "metadata": {},
   "outputs": [],
   "source": [
    "# Ajuste e transformação nos dados de treino\n",
    "X_train_transformed = transformer.fit_transform(X_train_imputed)\n",
    "\n",
    "# Transformação nos dados de teste\n",
    "X_test_transformed = transformer.transform(X_test_imputed)"
   ]
  },
  {
   "cell_type": "code",
   "execution_count": null,
   "metadata": {},
   "outputs": [],
   "source": [
    "print(f\"dataset num columns: {len(X_train_transformed[0])}\")\n",
    "print(f\"columns lenght: {len(x_train_columns)}\")"
   ]
  },
  {
   "cell_type": "code",
   "execution_count": null,
   "metadata": {},
   "outputs": [],
   "source": [
    "treatment_functions['transformer'] = transformer.transform"
   ]
  },
  {
   "cell_type": "markdown",
   "metadata": {},
   "source": [
    "## Normalização do dataset"
   ]
  },
  {
   "cell_type": "code",
   "execution_count": null,
   "metadata": {},
   "outputs": [],
   "source": [
    "scaler = MinMaxScaler()"
   ]
  },
  {
   "cell_type": "code",
   "execution_count": null,
   "metadata": {},
   "outputs": [],
   "source": [
    "# Ajuste e transformação nos dados de treino\n",
    "X_train_normalized = scaler.fit_transform(X_train_transformed)\n",
    "\n",
    "# Transformação nos dados de teste\n",
    "X_test_normalized = scaler.transform(X_test_transformed)"
   ]
  },
  {
   "cell_type": "code",
   "execution_count": null,
   "metadata": {},
   "outputs": [],
   "source": [
    "print(f\"dataset num columns: {len(X_train_normalized[0])}\")\n",
    "print(f\"columns lenght: {len(x_train_columns)}\")"
   ]
  },
  {
   "cell_type": "code",
   "execution_count": null,
   "metadata": {},
   "outputs": [],
   "source": [
    "treatment_functions['scaler'] = scaler.transform"
   ]
  },
  {
   "cell_type": "markdown",
   "metadata": {},
   "source": [
    "## Remoção de outliers"
   ]
  },
  {
   "cell_type": "code",
   "execution_count": null,
   "metadata": {},
   "outputs": [],
   "source": [
    "# Criação do modelo Elliptic Envelope\n",
    "ee = EllipticEnvelope(contamination=0.01) \n",
    "\n",
    "# Ajuste do modelo aos dados de treino normalizados\n",
    "ee.fit(X_train_normalized)\n",
    "\n",
    "# Identificar os outliers nos dados de treino\n",
    "y_pred_train = ee.predict(X_train_normalized)\n",
    "\n",
    "# Remover os outliers dos dados de treino\n",
    "X_train_no_outliers = X_train_normalized[y_pred_train == 1]\n",
    "Y_train_no_outliers = Y_train[y_pred_train == 1]"
   ]
  },
  {
   "cell_type": "code",
   "execution_count": null,
   "metadata": {},
   "outputs": [],
   "source": [
    "print(f\"dataset num columns: {len(X_train_no_outliers[0])}\")\n",
    "print(f\"columns lenght: {len(x_train_columns)}\")"
   ]
  },
  {
   "cell_type": "markdown",
   "metadata": {},
   "source": [
    "## Remoção de multicolinearidade"
   ]
  },
  {
   "cell_type": "code",
   "execution_count": null,
   "metadata": {},
   "outputs": [],
   "source": [
    "import numpy as np\n",
    "import pandas as pd\n",
    "\n",
    "class RemoveMulticollinearity:    \n",
    "    def __init__(self, threshold=0.9):  # Ajuste o threshold conforme necessário\n",
    "        self.threshold = threshold\n",
    "\n",
    "    def fit(self, X, y=None):\n",
    "        # Convert arrays to DataFrame for correlation computation\n",
    "        if isinstance(X, np.ndarray):\n",
    "            X = pd.DataFrame(X)\n",
    "        if y is not None and isinstance(y, np.ndarray):\n",
    "            y = pd.Series(y)\n",
    "\n",
    "        if y is None:\n",
    "            corr_X = X.corr()\n",
    "        else:\n",
    "            data = X.copy()\n",
    "            data['Label'] = y\n",
    "            corr_matrix = data.corr()\n",
    "            corr_X, corr_y = corr_matrix.iloc[:-1, :-1], corr_matrix.iloc[:-1, -1]\n",
    "\n",
    "        self.drop_ = set()\n",
    "        for col in corr_X.columns:\n",
    "            # Select columns that are correlated above the threshold\n",
    "            corr = corr_X[col][corr_X[col] >= self.threshold]\n",
    "\n",
    "            # Always finds itself with correlation 1\n",
    "            if len(corr) > 1:\n",
    "                if y is None:\n",
    "                    # Drop all but the first one\n",
    "                    self.drop_.update(list(corr.index[1:]))\n",
    "                else:\n",
    "                    # Keep feature with the highest correlation with y\n",
    "                    keep = corr_y[corr.index].idxmax()\n",
    "                    self.drop_.update(list(corr.index.drop(keep)))\n",
    "\n",
    "        self.drop_ = list(self.drop_)\n",
    "        return self\n",
    "\n",
    "    def transform(self, X):\n",
    "        # Convert arrays to DataFrame for dropping columns\n",
    "        if isinstance(X, np.ndarray):\n",
    "            X = pd.DataFrame(X)\n",
    "        return X.drop(columns=self.drop_, errors='ignore').values\n",
    "\n",
    "    def filter_column_names(self, columns):\n",
    "        columns_filtered = np.delete(columns, self.drop_)\n",
    "        # print(f\"Colunas originais: {columns}\")\n",
    "        # print(f\"Colunas após filtragem: {columns_filtered}\")\n",
    "        return columns_filtered"
   ]
  },
  {
   "cell_type": "code",
   "execution_count": null,
   "metadata": {},
   "outputs": [],
   "source": [
    "# Aplicar ao conjunto de treino\n",
    "remove_multicollinearity = RemoveMulticollinearity(threshold=0.9)\n",
    "remove_multicollinearity.fit(X_train_no_outliers, Y_train_no_outliers)\n",
    "X_train_no_multicollinearity = remove_multicollinearity.transform(X_train_no_outliers)"
   ]
  },
  {
   "cell_type": "code",
   "execution_count": null,
   "metadata": {},
   "outputs": [],
   "source": [
    "len(X_train_no_multicollinearity[0])"
   ]
  },
  {
   "cell_type": "code",
   "execution_count": null,
   "metadata": {},
   "outputs": [],
   "source": [
    "len(x_train_columns) - len(remove_multicollinearity.drop_)"
   ]
  },
  {
   "cell_type": "code",
   "execution_count": null,
   "metadata": {},
   "outputs": [],
   "source": [
    "columns_filtered = remove_multicollinearity.filter_column_names(x_train_columns)\n",
    "len(columns_filtered)"
   ]
  },
  {
   "cell_type": "code",
   "execution_count": null,
   "metadata": {},
   "outputs": [],
   "source": [
    "print(f\"dataset num columns: {len(X_train_no_multicollinearity[0])}\")\n",
    "print(f\"columns lenght: {len(columns_filtered)}\")"
   ]
  },
  {
   "cell_type": "code",
   "execution_count": null,
   "metadata": {},
   "outputs": [],
   "source": [
    "treatment_functions['remove_multicolinearity'] = remove_multicollinearity.transform"
   ]
  },
  {
   "cell_type": "code",
   "execution_count": null,
   "metadata": {},
   "outputs": [],
   "source": [
    "treatment_functions['filter_column_names'] = remove_multicollinearity.filter_column_names"
   ]
  },
  {
   "cell_type": "markdown",
   "metadata": {},
   "source": [
    "## Balanceamento de Classes"
   ]
  },
  {
   "cell_type": "code",
   "execution_count": null,
   "metadata": {},
   "outputs": [],
   "source": [
    "# Instanciar o SMOTE\n",
    "smote = SMOTE(random_state=42)\n",
    "\n",
    "# Aplicar o SMOTE aos dados de treino\n",
    "X_train_balanced, Y_train_balanced = smote.fit_resample(X_train_no_multicollinearity, Y_train_no_outliers)"
   ]
  },
  {
   "cell_type": "code",
   "execution_count": null,
   "metadata": {},
   "outputs": [],
   "source": [
    "len(X_train_balanced[0])"
   ]
  },
  {
   "cell_type": "code",
   "execution_count": null,
   "metadata": {},
   "outputs": [],
   "source": [
    "print(f\"dataset num columns: {len(X_train_balanced[0])}\")\n",
    "print(f\"columns lenght: {len(columns_filtered)}\")"
   ]
  },
  {
   "cell_type": "markdown",
   "metadata": {},
   "source": [
    "## Salvar dataset pre-processado"
   ]
  },
  {
   "cell_type": "code",
   "execution_count": null,
   "metadata": {},
   "outputs": [],
   "source": [
    "current_datetime = datetime.now().strftime('%Y-%m-%d_%H-%M-%S')\n",
    "dataset_treated_dir_path = f'./../Datasets/CSE-CIC-IDS2018/pre-processed/{current_datetime}'\n",
    "os.makedirs(dataset_treated_dir_path, exist_ok=True)"
   ]
  },
  {
   "cell_type": "code",
   "execution_count": null,
   "metadata": {},
   "outputs": [],
   "source": [
    "df_train = pd.DataFrame(X_train_balanced, columns=columns_filtered)\n",
    "df_train['Label'] = Y_train_balanced.values"
   ]
  },
  {
   "cell_type": "code",
   "execution_count": null,
   "metadata": {},
   "outputs": [],
   "source": [
    "ultima_coluna = X_test_normalized[:, -1]"
   ]
  },
  {
   "cell_type": "code",
   "execution_count": null,
   "metadata": {},
   "outputs": [],
   "source": [
    "num_ones = np.sum(ultima_coluna == 0)"
   ]
  },
  {
   "cell_type": "code",
   "execution_count": null,
   "metadata": {},
   "outputs": [],
   "source": [
    "num_ones"
   ]
  },
  {
   "cell_type": "code",
   "execution_count": null,
   "metadata": {},
   "outputs": [],
   "source": [
    "train_filename = f'train_dataset_treated.parquet'\n",
    "train_file_path = os.path.join(dataset_treated_dir_path, train_filename)\n",
    "\n",
    "df_train.to_parquet(train_file_path, index=False)"
   ]
  },
  {
   "cell_type": "code",
   "execution_count": null,
   "metadata": {},
   "outputs": [],
   "source": [
    "X_test_no_multicollinearity = remove_multicollinearity.transform(X_test_normalized)"
   ]
  },
  {
   "cell_type": "code",
   "execution_count": null,
   "metadata": {},
   "outputs": [],
   "source": [
    "df_test = pd.DataFrame(X_test_no_multicollinearity, columns=columns_filtered)\n",
    "df_test['Label'] = Y_test.values"
   ]
  },
  {
   "cell_type": "code",
   "execution_count": null,
   "metadata": {},
   "outputs": [],
   "source": [
    "test_filename = f'test_dataset_treated.parquet'\n",
    "test_file_path = os.path.join(dataset_treated_dir_path, test_filename)\n",
    "\n",
    "df_test.to_parquet(test_file_path, index=False)"
   ]
  },
  {
   "cell_type": "markdown",
   "metadata": {},
   "source": [
    "## Salvar funções geradas pelo pré-processamento"
   ]
  },
  {
   "cell_type": "code",
   "execution_count": null,
   "metadata": {},
   "outputs": [],
   "source": [
    "dict_functions_file_path = os.path.join(dataset_treated_dir_path,'pre_processing_functions.pkl')\n",
    "\n",
    "with open(dict_functions_file_path, 'wb') as file:\n",
    "    pickle.dump(treatment_functions, file)"
   ]
  }
 ],
 "metadata": {
  "kernelspec": {
   "display_name": "Python 3 (ipykernel)",
   "language": "python",
   "name": "python3"
  },
  "language_info": {
   "codemirror_mode": {
    "name": "ipython",
    "version": 3
   },
   "file_extension": ".py",
   "mimetype": "text/x-python",
   "name": "python",
   "nbconvert_exporter": "python",
   "pygments_lexer": "ipython3",
   "version": "3.10.12"
  }
 },
 "nbformat": 4,
 "nbformat_minor": 4
}
