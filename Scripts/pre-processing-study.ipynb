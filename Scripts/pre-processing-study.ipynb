{
 "cells": [
  {
   "attachments": {},
   "cell_type": "markdown",
   "metadata": {},
   "source": [
    "## Import Dependencies"
   ]
  },
  {
   "cell_type": "code",
   "execution_count": 1,
   "metadata": {
    "id": "W16iRl2sXVuN"
   },
   "outputs": [],
   "source": [
    "import pandas as pd\n",
    "import numpy as np\n",
    "from pycaret.datasets import get_data\n",
    "from pycaret.classification import *\n",
    "import matplotlib.pyplot as plt\n",
    "from sklearn.model_selection import train_test_split\n",
    "import os"
   ]
  },
  {
   "cell_type": "markdown",
   "metadata": {},
   "source": [
    "## Define functions"
   ]
  },
  {
   "cell_type": "code",
   "execution_count": 2,
   "metadata": {},
   "outputs": [],
   "source": [
    "dataset_prefix = 'one-day-dataset'"
   ]
  },
  {
   "cell_type": "code",
   "execution_count": 3,
   "metadata": {},
   "outputs": [],
   "source": [
    "def save_pre_processed_dataset(df: pd.DataFrame, name):\n",
    "    \"\"\"Save as the dataset pre-processed as csv in the dir root/Datasets/CSE-CIC/IDS2018/pre-processed/\"\"\"\n",
    "    file_name = dataset_prefix + '-' + name + '.csv'\n",
    "    \n",
    "    # Define the path to save the dataset pre-processed\n",
    "    file_path = os.path.join(os.getcwd(), '..', 'Datasets', 'CSE-CIC-IDS2018', 'pre-processed', file_name)\n",
    "\n",
    "    # Save the dataset pre-processed\n",
    "    df.to_csv(file_path ,index=False)"
   ]
  },
  {
   "cell_type": "code",
   "execution_count": 4,
   "metadata": {},
   "outputs": [],
   "source": [
    "def test_and_save_pre_processing_approach(approach_name, setup):\n",
    "    # Test different algorithms\n",
    "    setup.compare_models(include = ['ada', 'gbc', 'et','xgboost', 'rf', 'dt', 'lightgbm'])\n",
    "    # setup.compare_models()\n",
    "    \n",
    "    # Getting the resulting df of the models_comparison\n",
    "    df_models_comparison = pull().copy()\n",
    "    \n",
    "    # Getting the dataset_pre_processed by the autoML\n",
    "    df_dataset_pre_processed = setup.get_config('dataset_transformed').copy()\n",
    "\n",
    "    # Save as the dataset pre-processed as csv in the dir root/Datasets/CSE-CIC/IDS2018/pre-processed/\n",
    "    save_pre_processed_dataset(df_dataset_pre_processed, approach_name)\n",
    "\n",
    "    return df_models_comparison, df_dataset_pre_processed\n"
   ]
  },
  {
   "cell_type": "code",
   "execution_count": 5,
   "metadata": {},
   "outputs": [],
   "source": [
    "colors_list = [\n",
    "        '#1982C4',  # Azul\n",
    "        '#B4436C',  # Roxo\n",
    "        '#F2C14E', # Amarelo\n",
    "        '#ED217C', # Rosa\n",
    "        '#5FAD56', # Verde\n",
    "        '#F78154', # Laranja\n",
    "        '#4D9078', # Azul esverdeado\n",
    "        ]\n",
    "\n",
    "def plot_radar_curves(subplot, column, dfs_dict, angles):\n",
    "    for index, (name, df) in enumerate(dfs_dict.items()):\n",
    "        values = df[column].tolist()\n",
    "        values += values[:1]\n",
    "        subplot.plot(angles, values, color=colors_list[index], linewidth=2, linestyle='solid', label=name)\n",
    "        subplot.fill(angles, values, color=colors_list[index], alpha=0.25)\n",
    "\n",
    "def compare_metrics(dfs_dict, chart_name):\n",
    "\n",
    "    # Cria colunas com a sigla dos modelos\n",
    "    for name, df in dfs_dict.items():\n",
    "        df = df.reset_index()\n",
    "        df = df.rename(columns={'index': 'Model Alias'})\n",
    "        dfs_dict[name] = df\n",
    "\n",
    "    # Número de variáveis\n",
    "    labels = dfs_dict[list(dfs_dict.keys())[0]]['Model Alias']\n",
    "    num_vars = len(labels)\n",
    "\n",
    "    # Ângulos dos eixos\n",
    "    angles = np.linspace(0, 2 * np.pi, num_vars, endpoint=False).tolist()\n",
    "    angles += angles[:1]  # Completa o círculo\n",
    "\n",
    "    # Criação dos subplots\n",
    "    fig, (ax1, ax2) = plt.subplots(1, 2, figsize=(14, 7), subplot_kw=dict(polar=True))\n",
    "\n",
    "    # Gráfico 1\n",
    "    # ATENÇÃO\n",
    "    # Escrever um for para plotar o gráfico para cada datafra\n",
    "    \n",
    "    # Plotar Recall\n",
    "    plot_radar_curves(ax1, 'Recall', dfs_dict, angles)\n",
    "    ax1.set_xticks(angles[:-1])\n",
    "    ax1.set_xticklabels(labels, fontsize=14)\n",
    "    ax1.set_title('Revocação', fontsize=25)\n",
    "    ax1.legend(loc='upper right', bbox_to_anchor=(1.1, 1.1))\n",
    "\n",
    "    # Plotar F1 Score\n",
    "    plot_radar_curves(ax2, 'F1', dfs_dict, angles)\n",
    "    ax2.set_xticks(angles[:-1])\n",
    "    ax2.set_xticklabels(labels, fontsize=14)\n",
    "    ax2.set_title('Medida-F1', fontsize=25)\n",
    "    ax2.legend(loc='upper right', bbox_to_anchor=(1.1, 1.1))\n",
    "\n",
    "    # Ajustar o layout\n",
    "    plt.tight_layout()\n",
    "\n",
    "    # Salvar a imagem\n",
    "    file_path = os.path.join('imgs', f'{chart_name}.png')\n",
    "    plt.savefig(file_path, dpi=300)\n",
    "\n",
    "    # Mostrar o gráfico\n",
    "    plt.show()"
   ]
  },
  {
   "attachments": {},
   "cell_type": "markdown",
   "metadata": {},
   "source": [
    "## Set display unlimited number of lines"
   ]
  },
  {
   "cell_type": "code",
   "execution_count": 6,
   "metadata": {},
   "outputs": [],
   "source": [
    "pd.set_option('display.max_rows', None, 'display.max_columns', None)"
   ]
  },
  {
   "attachments": {},
   "cell_type": "markdown",
   "metadata": {
    "id": "f1oKe3OH6R2j"
   },
   "source": [
    "## Load datasets in pandas dataframes"
   ]
  },
  {
   "cell_type": "code",
   "execution_count": 7,
   "metadata": {},
   "outputs": [],
   "source": [
    "# # Define the path to the folder containing the CSV files\n",
    "# file_path = os.path.join(os.getcwd(), '..', 'Datasets', 'CSE-CIC-IDS2018', 'raw', 'original', '02-14-2018.csv')\n",
    "# # Import csv to pandas\n",
    "# dataset = pd.read_csv(file_path)"
   ]
  },
  {
   "cell_type": "code",
   "execution_count": 8,
   "metadata": {},
   "outputs": [],
   "source": [
    "# dataset"
   ]
  },
  {
   "cell_type": "code",
   "execution_count": 9,
   "metadata": {},
   "outputs": [],
   "source": [
    "file_pattern = './../Datasets/CSE-CIC-IDS2018/raw/original/02-14-2018.csv'\n",
    "dataset = pd.read_csv(file_pattern)"
   ]
  },
  {
   "attachments": {},
   "cell_type": "markdown",
   "metadata": {},
   "source": [
    "# Pre-processing"
   ]
  },
  {
   "cell_type": "markdown",
   "metadata": {},
   "source": [
    "## 1. First steps for pycaret be able to consume"
   ]
  },
  {
   "cell_type": "code",
   "execution_count": 10,
   "metadata": {},
   "outputs": [],
   "source": [
    "target_classes = dataset[\"Label\"].value_counts().to_dict()"
   ]
  },
  {
   "cell_type": "code",
   "execution_count": 11,
   "metadata": {},
   "outputs": [],
   "source": [
    "classes = target_classes.keys()\n",
    "\n",
    "if not (0 in classes and 1 in classes and len(classes) == 2):\n",
    "    for target in target_classes:\n",
    "        value = 0 if target == \"Benign\"else 1\n",
    "        dataset.replace(to_replace=target, value=value, inplace=True)"
   ]
  },
  {
   "cell_type": "code",
   "execution_count": 12,
   "metadata": {},
   "outputs": [
    {
     "data": {
      "text/plain": [
       "Label\n",
       "0    667626\n",
       "1    380949\n",
       "Name: count, dtype: int64"
      ]
     },
     "execution_count": 12,
     "metadata": {},
     "output_type": "execute_result"
    }
   ],
   "source": [
    "dataset[\"Label\"].value_counts()"
   ]
  },
  {
   "cell_type": "code",
   "execution_count": 13,
   "metadata": {},
   "outputs": [],
   "source": [
    "columns = dataset.columns.values\n",
    "columns = np.delete(columns, -1)"
   ]
  },
  {
   "cell_type": "code",
   "execution_count": 14,
   "metadata": {},
   "outputs": [],
   "source": [
    "dataset.replace([np.inf, -np.inf], np.nan, inplace=True)\n",
    "dataset.drop(columns=['Timestamp'], inplace=True)\n",
    "dataset.dropna(inplace=True)"
   ]
  },
  {
   "cell_type": "code",
   "execution_count": 15,
   "metadata": {},
   "outputs": [],
   "source": [
    "columns = np.delete(columns, 2)"
   ]
  },
  {
   "cell_type": "code",
   "execution_count": 16,
   "metadata": {},
   "outputs": [],
   "source": [
    "#Iterate throught each dataframe in the dictionary\n",
    "for key in dataset.keys():\n",
    "    for col in dataset.columns:\n",
    "        #Check if the datatype of the column is object\n",
    "        if dataset[col].dtype == 'object' and col != 'Label':\n",
    "            # Change all values to numeric, and to NaN if it is a strig\n",
    "            dataset[col] = pd.to_numeric(dataset[col], errors='coerce')"
   ]
  },
  {
   "cell_type": "markdown",
   "metadata": {},
   "source": [
    "### Pegar dataset parcial"
   ]
  },
  {
   "cell_type": "code",
   "execution_count": 17,
   "metadata": {},
   "outputs": [],
   "source": [
    "dataset, _ = train_test_split(dataset, test_size=0.5, stratify=dataset['Label'])\n"
   ]
  },
  {
   "cell_type": "markdown",
   "metadata": {},
   "source": [
    "## 2. Pre-processing using Pycaret"
   ]
  },
  {
   "cell_type": "markdown",
   "metadata": {},
   "source": [
    "### 2.1 Generic pre-processing specifications techniques\n",
    "The autoML choose the following parameters automatically:\n",
    "- inputation_type: simple\n",
    "    - numeric_imputation: mean\n",
    "    - categorical_imputation: mode\n",
    "- fold_strategy: stratifiedkfold\n",
    "    - fold: 10"
   ]
  },
  {
   "cell_type": "code",
   "execution_count": 18,
   "metadata": {},
   "outputs": [],
   "source": [
    "# %store generic_pre_processing_setup"
   ]
  },
  {
   "cell_type": "code",
   "execution_count": null,
   "metadata": {},
   "outputs": [],
   "source": [
    "generic_pre_processing_setup = setup(\n",
    "                                dataset, \n",
    "                                target = 'Label',\n",
    "                                imputation_type = 'simple',\n",
    "                                numeric_imputation = 'mean',\n",
    "                                categorical_imputation = 'mode',\n",
    "                                fold_strategy = 'stratifiedkfold',\n",
    "                                n_jobs=-1\n",
    ")"
   ]
  },
  {
   "cell_type": "code",
   "execution_count": 39,
   "metadata": {},
   "outputs": [
    {
     "data": {
      "text/html": [
       "<div>\n",
       "<style scoped>\n",
       "    .dataframe tbody tr th:only-of-type {\n",
       "        vertical-align: middle;\n",
       "    }\n",
       "\n",
       "    .dataframe tbody tr th {\n",
       "        vertical-align: top;\n",
       "    }\n",
       "\n",
       "    .dataframe thead th {\n",
       "        text-align: right;\n",
       "    }\n",
       "</style>\n",
       "<table border=\"1\" class=\"dataframe\">\n",
       "  <thead>\n",
       "    <tr style=\"text-align: right;\">\n",
       "      <th></th>\n",
       "      <th>Model</th>\n",
       "      <th>Accuracy</th>\n",
       "      <th>AUC</th>\n",
       "      <th>Recall</th>\n",
       "      <th>Prec.</th>\n",
       "      <th>F1</th>\n",
       "      <th>Kappa</th>\n",
       "      <th>MCC</th>\n",
       "      <th>TT (Sec)</th>\n",
       "    </tr>\n",
       "  </thead>\n",
       "  <tbody>\n",
       "    <tr>\n",
       "      <th>ada</th>\n",
       "      <td>Ada Boost Classifier</td>\n",
       "      <td>1.0</td>\n",
       "      <td>1.0</td>\n",
       "      <td>1.0</td>\n",
       "      <td>1.0</td>\n",
       "      <td>1.0</td>\n",
       "      <td>1.0</td>\n",
       "      <td>1.0</td>\n",
       "      <td>7.743</td>\n",
       "    </tr>\n",
       "    <tr>\n",
       "      <th>gbc</th>\n",
       "      <td>Gradient Boosting Classifier</td>\n",
       "      <td>1.0</td>\n",
       "      <td>1.0</td>\n",
       "      <td>1.0</td>\n",
       "      <td>1.0</td>\n",
       "      <td>1.0</td>\n",
       "      <td>1.0</td>\n",
       "      <td>1.0</td>\n",
       "      <td>18.867</td>\n",
       "    </tr>\n",
       "    <tr>\n",
       "      <th>et</th>\n",
       "      <td>Extra Trees Classifier</td>\n",
       "      <td>1.0</td>\n",
       "      <td>1.0</td>\n",
       "      <td>1.0</td>\n",
       "      <td>1.0</td>\n",
       "      <td>1.0</td>\n",
       "      <td>1.0</td>\n",
       "      <td>1.0</td>\n",
       "      <td>1.411</td>\n",
       "    </tr>\n",
       "    <tr>\n",
       "      <th>xgboost</th>\n",
       "      <td>Extreme Gradient Boosting</td>\n",
       "      <td>1.0</td>\n",
       "      <td>1.0</td>\n",
       "      <td>1.0</td>\n",
       "      <td>1.0</td>\n",
       "      <td>1.0</td>\n",
       "      <td>1.0</td>\n",
       "      <td>1.0</td>\n",
       "      <td>1.324</td>\n",
       "    </tr>\n",
       "    <tr>\n",
       "      <th>rf</th>\n",
       "      <td>Random Forest Classifier</td>\n",
       "      <td>1.0</td>\n",
       "      <td>1.0</td>\n",
       "      <td>1.0</td>\n",
       "      <td>1.0</td>\n",
       "      <td>1.0</td>\n",
       "      <td>1.0</td>\n",
       "      <td>1.0</td>\n",
       "      <td>2.003</td>\n",
       "    </tr>\n",
       "    <tr>\n",
       "      <th>dt</th>\n",
       "      <td>Decision Tree Classifier</td>\n",
       "      <td>1.0</td>\n",
       "      <td>1.0</td>\n",
       "      <td>1.0</td>\n",
       "      <td>1.0</td>\n",
       "      <td>1.0</td>\n",
       "      <td>1.0</td>\n",
       "      <td>1.0</td>\n",
       "      <td>0.449</td>\n",
       "    </tr>\n",
       "    <tr>\n",
       "      <th>lightgbm</th>\n",
       "      <td>Light Gradient Boosting Machine</td>\n",
       "      <td>1.0</td>\n",
       "      <td>1.0</td>\n",
       "      <td>1.0</td>\n",
       "      <td>1.0</td>\n",
       "      <td>1.0</td>\n",
       "      <td>1.0</td>\n",
       "      <td>1.0</td>\n",
       "      <td>20.808</td>\n",
       "    </tr>\n",
       "  </tbody>\n",
       "</table>\n",
       "</div>"
      ],
      "text/plain": [
       "                                    Model  Accuracy  AUC  Recall  Prec.   F1  \\\n",
       "ada                  Ada Boost Classifier       1.0  1.0     1.0    1.0  1.0   \n",
       "gbc          Gradient Boosting Classifier       1.0  1.0     1.0    1.0  1.0   \n",
       "et                 Extra Trees Classifier       1.0  1.0     1.0    1.0  1.0   \n",
       "xgboost         Extreme Gradient Boosting       1.0  1.0     1.0    1.0  1.0   \n",
       "rf               Random Forest Classifier       1.0  1.0     1.0    1.0  1.0   \n",
       "dt               Decision Tree Classifier       1.0  1.0     1.0    1.0  1.0   \n",
       "lightgbm  Light Gradient Boosting Machine       1.0  1.0     1.0    1.0  1.0   \n",
       "\n",
       "          Kappa  MCC  TT (Sec)  \n",
       "ada         1.0  1.0     7.743  \n",
       "gbc         1.0  1.0    18.867  \n",
       "et          1.0  1.0     1.411  \n",
       "xgboost     1.0  1.0     1.324  \n",
       "rf          1.0  1.0     2.003  \n",
       "dt          1.0  1.0     0.449  \n",
       "lightgbm    1.0  1.0    20.808  "
      ]
     },
     "execution_count": 39,
     "metadata": {},
     "output_type": "execute_result"
    }
   ],
   "source": [
    "models_comparison_generic"
   ]
  },
  {
   "cell_type": "code",
   "execution_count": null,
   "metadata": {},
   "outputs": [],
   "source": [
    "result = test_and_save_pre_processing_approach('generic_pre_processing', generic_pre_processing_setup)\n",
    "models_comparison_generic = result[0]\n",
    "dataset_generic_pre_processing = result[1]"
   ]
  },
  {
   "cell_type": "code",
   "execution_count": null,
   "metadata": {},
   "outputs": [],
   "source": [
    "models_comparison_generic = result[0]\n",
    "dataset_generic_pre_processing = result[1]"
   ]
  },
  {
   "cell_type": "markdown",
   "metadata": {},
   "source": [
    "### 2.3 Missing values pre-processing"
   ]
  },
  {
   "cell_type": "code",
   "execution_count": null,
   "metadata": {},
   "outputs": [],
   "source": [
    "simple_imputation_pre_processing_setup = setup(\n",
    "                                                dataset, \n",
    "                                                target = 'Label',\n",
    "                                                imputation_type = 'simple',\n",
    "                                                numeric_imputation = 'knn',\n",
    "                                                categorical_imputation = 'mode',\n",
    "                                                fold = 10,\n",
    "                                                n_jobs=-1\n",
    "                                                )"
   ]
  },
  {
   "cell_type": "code",
   "execution_count": null,
   "metadata": {},
   "outputs": [],
   "source": [
    "result = test_and_save_pre_processing_approach('simple_imputation_pre_processing', simple_imputation_pre_processing_setup)\n",
    "models_comparison_simple_imputation = result[0]\n",
    "dataset_simple_imputation_pre_processing = result[1]"
   ]
  },
  {
   "cell_type": "code",
   "execution_count": null,
   "metadata": {},
   "outputs": [],
   "source": [
    "simple_imputation_2_pre_processing_setup = setup(\n",
    "                                                dataset, \n",
    "                                                target = 'Label',\n",
    "                                                imputation_type = 'simple',\n",
    "                                                numeric_imputation = 'mean',\n",
    "                                                categorical_imputation = 'mode',\n",
    "                                                fold = 10,\n",
    "                                                n_jobs=-1\n",
    "                                                )"
   ]
  },
  {
   "cell_type": "code",
   "execution_count": null,
   "metadata": {},
   "outputs": [],
   "source": [
    "result = test_and_save_pre_processing_approach('simple_imputation_2_pre_processing', simple_imputation_2_pre_processing_setup)\n",
    "models_comparison_simple_imputation_2 = result[0]\n",
    "dataset_simple_imputation_2_pre_processing = result[1]"
   ]
  },
  {
   "cell_type": "code",
   "execution_count": null,
   "metadata": {},
   "outputs": [],
   "source": [
    "simple_imputation_3_pre_processing_setup = setup(\n",
    "                                                dataset, \n",
    "                                                target = 'Label',\n",
    "                                                imputation_type = 'simple',\n",
    "                                                numeric_imputation = 'median',\n",
    "                                                categorical_imputation = 'mode',\n",
    "                                                fold = 10,\n",
    "                                                n_jobs=-1\n",
    "                                                )\n",
    "\n",
    "\n",
    "result = test_and_save_pre_processing_approach('simple_imputation_3_pre_processing', simple_imputation_3_pre_processing_setup)\n",
    "models_comparison_simple_imputation_3 = result[0]\n",
    "dataset_simple_imputation_3_pre_processing = result[1]"
   ]
  },
  {
   "cell_type": "code",
   "execution_count": null,
   "metadata": {},
   "outputs": [],
   "source": [
    "simple_imputation_4_pre_processing_setup = setup(\n",
    "                                                dataset, \n",
    "                                                target = 'Label',\n",
    "                                                imputation_type = 'simple',\n",
    "                                                numeric_imputation = 'drop',\n",
    "                                                categorical_imputation = 'mode',\n",
    "                                                fold = 10,\n",
    "                                                n_jobs=-1\n",
    "                                                )\n",
    "\n",
    "\n",
    "result = test_and_save_pre_processing_approach('simple_imputation_4_pre_processing', simple_imputation_4_pre_processing_setup)\n",
    "models_comparison_simple_imputation_4 = result[0]\n",
    "dataset_simple_imputation_4_pre_processing = result[1]"
   ]
  },
  {
   "cell_type": "code",
   "execution_count": null,
   "metadata": {},
   "outputs": [],
   "source": [
    "simple_imputation_5_pre_processing_setup = setup(\n",
    "                                                dataset, \n",
    "                                                target = 'Label',\n",
    "                                                imputation_type = 'simple',\n",
    "                                                numeric_imputation = 'mode',\n",
    "                                                categorical_imputation = 'mode',\n",
    "                                                fold = 10,\n",
    "                                                n_jobs=-1\n",
    "                                                )\n",
    "\n",
    "\n",
    "result = test_and_save_pre_processing_approach('simple_imputation_5_pre_processing', simple_imputation_5_pre_processing_setup)\n",
    "models_comparison_simple_imputation_5 = result[0]\n",
    "dataset_simple_imputation_5_pre_processing = result[1]"
   ]
  },
  {
   "cell_type": "code",
   "execution_count": null,
   "metadata": {},
   "outputs": [],
   "source": [
    "KNN_X_Mean = {\n",
    "    \"Remoção\": models_comparison_simple_imputation_4,\n",
    "    \"KNN\": models_comparison_simple_imputation,\n",
    "    \"Média\": models_comparison_simple_imputation_2,\n",
    "    \"Mediana\": models_comparison_simple_imputation_3,\n",
    "    \"Moda\": models_comparison_simple_imputation_5,\n",
    "}\n",
    "\n",
    "\n",
    "compare_metrics(KNN_X_Mean, 'missign_values_types')"
   ]
  },
  {
   "cell_type": "code",
   "execution_count": null,
   "metadata": {},
   "outputs": [],
   "source": [
    "iterative_imputation_pre_processing_setup = setup(\n",
    "                                                dataset, \n",
    "                                                target = 'Label',\n",
    "                                                imputation_type = 'iterative',\n",
    "                                                numeric_iterative_imputer = 'lightgbm',\n",
    "                                                fold_strategy = 'stratifiedkfold',\n",
    "                                                fold = 10,\n",
    "                                                n_jobs=-1\n",
    "                                                )"
   ]
  },
  {
   "cell_type": "code",
   "execution_count": null,
   "metadata": {},
   "outputs": [],
   "source": [
    "result = test_and_save_pre_processing_approach('iterative_imputation_pre_processing', iterative_imputation_pre_processing_setup)\n",
    "models_comparison_iterative_imputation = result[0]\n",
    "dataset_iterative_imputation_pre_processing = result[1]"
   ]
  },
  {
   "cell_type": "code",
   "execution_count": null,
   "metadata": {},
   "outputs": [],
   "source": [
    "Simples_X_Iterativo = {\n",
    "    \"Simples (Mediana)\": models_comparison_simple_imputation_3,\n",
    "    \"Iterativo (lightgbm)\": models_comparison_iterative_imputation\n",
    "}\n",
    "\n",
    "\n",
    "compare_metrics(Simples_X_Iterativo, 'missing_values')"
   ]
  },
  {
   "cell_type": "markdown",
   "metadata": {},
   "source": [
    "#### Conclusion\n",
    "Analyzing mainly the Recall and F1 metrics it was possible do see:\n",
    "- The Decision Tree and Extra Trees algorithms were improved\n",
    "- The Ada Boost and Extreme Gradiend Boosting were deteriorated"
   ]
  },
  {
   "cell_type": "markdown",
   "metadata": {},
   "source": [
    "### 2.4 Fix imbalance pre-processing"
   ]
  },
  {
   "cell_type": "code",
   "execution_count": null,
   "metadata": {},
   "outputs": [],
   "source": [
    "fix_imbalance_pre_processing_setup = setup(\n",
    "                                                dataset, \n",
    "                                                target = 'Label',\n",
    "                                                \n",
    "                                                imputation_type = 'simple',\n",
    "                                                numeric_imputation = 'mean',\n",
    "                                                categorical_imputation = 'mode',\n",
    "                                                fold_strategy = 'stratifiedkfold',\n",
    "                                                fold = 10,\n",
    "                                                fix_imbalance = True,\n",
    "                                                fix_imbalance_method = 'SMOTE'\n",
    "                                                )"
   ]
  },
  {
   "cell_type": "code",
   "execution_count": null,
   "metadata": {},
   "outputs": [],
   "source": [
    "result = test_and_save_pre_processing_approach('fix_imbalance_pre_processing', fix_imbalance_pre_processing_setup)\n",
    "models_comparison_fix_imbalance = result[0]\n",
    "dataset_fix_imbalance_pre_processing = result[1]"
   ]
  },
  {
   "cell_type": "code",
   "execution_count": null,
   "metadata": {},
   "outputs": [],
   "source": [
    "Fix_Imbalance = {\n",
    "    \"Coluna Alvo desbalanceada\": models_comparison_simple_imputation,\n",
    "    \"Coluna Alvo balanceada\": models_comparison_fix_imbalance,\n",
    "}\n",
    "\n",
    "\n",
    "compare_metrics(Fix_Imbalance, 'fix_imbalance')"
   ]
  },
  {
   "cell_type": "markdown",
   "metadata": {},
   "source": [
    "#### Conclusion\n",
    "Analyzing mainly the Recall and F1 metrics it was possible do see:\n",
    "- The SMOTE method proved be the most suitable\n",
    "- The Ada, xgboost, gbc and rf were improved\n",
    "- The Decision Tree were deteriorated"
   ]
  },
  {
   "cell_type": "markdown",
   "metadata": {},
   "source": [
    "### 2.5 Remove Outliers pre-processing"
   ]
  },
  {
   "cell_type": "code",
   "execution_count": null,
   "metadata": {},
   "outputs": [],
   "source": [
    "remove_outliers_pre_processing_setup = setup(\n",
    "                                            dataset, \n",
    "                                            target = 'Label',\n",
    "                                            date_features = ['Timestamp'],\n",
    "                                            create_date_columns = ['hour', 'minute', 'second', 'day', 'month'],\n",
    "                                            imputation_type = 'simple',\n",
    "                                            numeric_imputation = 'mean',\n",
    "                                            categorical_imputation = 'mode',\n",
    "                                            fold_strategy = 'stratifiedkfold',\n",
    "                                            fold = 10,\n",
    "                                            fix_imbalance = True,\n",
    "                                            fix_imbalance_method = 'SMOTE',\n",
    "                                            remove_outliers = True,\n",
    "                                            outliers_method = 'iforest'\n",
    "                                            )"
   ]
  },
  {
   "cell_type": "code",
   "execution_count": null,
   "metadata": {},
   "outputs": [],
   "source": [
    "result = test_and_save_pre_processing_approach('remove_outliers_pre_processing', remove_outliers_pre_processing_setup)\n",
    "models_comparison_remove_outliers = result[0]\n",
    "dataset_remove_outliers_pre_processing = result[1]"
   ]
  },
  {
   "cell_type": "code",
   "execution_count": null,
   "metadata": {},
   "outputs": [],
   "source": [
    "remove_outliers_2_pre_processing_setup = setup(\n",
    "                                            dataset, \n",
    "                                            target = 'Label',\n",
    "                                            date_features = ['Timestamp'],\n",
    "                                            create_date_columns = ['hour', 'minute', 'second', 'day', 'month'],\n",
    "                                            imputation_type = 'simple',\n",
    "                                            numeric_imputation = 'mean',\n",
    "                                            categorical_imputation = 'mode',\n",
    "                                            fold_strategy = 'stratifiedkfold',\n",
    "                                            fold = 10,\n",
    "                                            fix_imbalance = True,\n",
    "                                            fix_imbalance_method = 'SMOTE',\n",
    "                                            remove_outliers = True,\n",
    "                                            outliers_method = 'ee'\n",
    "                                            )"
   ]
  },
  {
   "cell_type": "code",
   "execution_count": null,
   "metadata": {},
   "outputs": [],
   "source": [
    "result = test_and_save_pre_processing_approach('remove_outliers_2_pre_processing', remove_outliers_2_pre_processing_setup)\n",
    "models_comparison_remove_outliers_2 = result[0]\n",
    "dataset_remove_outliers_2_pre_processing = result[1]"
   ]
  },
  {
   "cell_type": "code",
   "execution_count": null,
   "metadata": {},
   "outputs": [],
   "source": [
    "remove_outliers_3_pre_processing_setup = setup(\n",
    "                                            dataset, \n",
    "                                            target = 'Label',\n",
    "                                            date_features = ['Timestamp'],\n",
    "                                            create_date_columns = ['hour', 'minute', 'second', 'day', 'month'],\n",
    "                                            imputation_type = 'simple',\n",
    "                                            numeric_imputation = 'mean',\n",
    "                                            categorical_imputation = 'mode',\n",
    "                                            fold_strategy = 'stratifiedkfold',\n",
    "                                            fold = 10,\n",
    "                                            fix_imbalance = True,\n",
    "                                            fix_imbalance_method = 'SMOTE',\n",
    "                                            remove_outliers = True,\n",
    "                                            outliers_method = 'lof'\n",
    "                                            )"
   ]
  },
  {
   "cell_type": "code",
   "execution_count": null,
   "metadata": {},
   "outputs": [],
   "source": [
    "result = test_and_save_pre_processing_approach('remove_outliers_3_pre_processing', remove_outliers_3_pre_processing_setup)\n",
    "models_comparison_remove_outliers_3 = result[0]\n",
    "dataset_remove_outliers_3_pre_processing = result[1]"
   ]
  },
  {
   "cell_type": "code",
   "execution_count": null,
   "metadata": {},
   "outputs": [],
   "source": [
    "Remove_Outliers_Types = {\n",
    "    # \"Caso anterior\": models_comparison_fix_imbalance,\n",
    "    \"Isolation Forest\": models_comparison_remove_outliers,\n",
    "    \"Elliptic Envelope\": models_comparison_remove_outliers_2,\n",
    "    \"Local Outlier Factor\": models_comparison_remove_outliers_3\n",
    "}\n",
    "\n",
    "\n",
    "compare_metrics(Remove_Outliers_Types, 'remove_outliers_types')"
   ]
  },
  {
   "cell_type": "code",
   "execution_count": null,
   "metadata": {},
   "outputs": [],
   "source": [
    "Remove_Outliers = {\n",
    "    \"Sem remoção de outliers\": models_comparison_fix_imbalance,\n",
    "    \"Elliptic Envelope\": models_comparison_remove_outliers_2\n",
    "}\n",
    "\n",
    "\n",
    "compare_metrics(Remove_Outliers, 'remove_outliers')"
   ]
  },
  {
   "cell_type": "markdown",
   "metadata": {},
   "source": [
    "#### Conclusion\n",
    "Analyzing mainly the Recall and F1 metrics it was possible do see:\n",
    "- The ee method proved be the most suitable\n",
    "- The only algortihm that has been improved was the Extra trees\n",
    "- All the others algorithms has been deteriorated\n",
    "\n",
    "So we wil not use remove_outliers method"
   ]
  },
  {
   "cell_type": "markdown",
   "metadata": {},
   "source": [
    "### 2.6 Normalize pre-processing"
   ]
  },
  {
   "cell_type": "code",
   "execution_count": null,
   "metadata": {},
   "outputs": [],
   "source": [
    "normalize_pre_processing_setup = setup(\n",
    "                                    dataset, \n",
    "                                    target = 'Label',\n",
    "                                    date_features = ['Timestamp'],\n",
    "                                    create_date_columns = ['hour', 'minute', 'second', 'day', 'month'],\n",
    "                                    imputation_type = 'simple',\n",
    "                                    numeric_imputation = 'mean',\n",
    "                                    categorical_imputation = 'mode',\n",
    "                                    fold_strategy = 'stratifiedkfold',\n",
    "                                    fold = 10,\n",
    "                                    fix_imbalance = True,\n",
    "                                    fix_imbalance_method = 'SMOTE',\n",
    "                                    normalize = True,\n",
    "                                    # Test different zscore\n",
    "                                    normalize_method = 'zscore'\n",
    "                                    )"
   ]
  },
  {
   "cell_type": "code",
   "execution_count": null,
   "metadata": {},
   "outputs": [],
   "source": [
    "result = test_and_save_pre_processing_approach('normalize_pre_processing', normalize_pre_processing_setup)\n",
    "models_comparison_normalize = result[0]\n",
    "dataset_normalize_pre_processing = result[1]"
   ]
  },
  {
   "cell_type": "code",
   "execution_count": null,
   "metadata": {},
   "outputs": [],
   "source": [
    "normalize_2_pre_processing_setup = setup(\n",
    "                                    dataset, \n",
    "                                    target = 'Label',\n",
    "                                    date_features = ['Timestamp'],\n",
    "                                    create_date_columns = ['hour', 'minute', 'second', 'day', 'month'],\n",
    "                                    imputation_type = 'simple',\n",
    "                                    numeric_imputation = 'mean',\n",
    "                                    categorical_imputation = 'mode',\n",
    "                                    fold_strategy = 'stratifiedkfold',\n",
    "                                    fold = 10,\n",
    "                                    fix_imbalance = True,\n",
    "                                    fix_imbalance_method = 'SMOTE',\n",
    "                                    normalize = True,\n",
    "                                    # Test different zscore\n",
    "                                    normalize_method = 'minmax'\n",
    "                                    )"
   ]
  },
  {
   "cell_type": "code",
   "execution_count": null,
   "metadata": {},
   "outputs": [],
   "source": [
    "result = test_and_save_pre_processing_approach('normalize_2_pre_processing', normalize_2_pre_processing_setup)\n",
    "models_comparison_normalize_2 = result[0]\n",
    "dataset_normalize_2_pre_processing = result[1]"
   ]
  },
  {
   "cell_type": "code",
   "execution_count": null,
   "metadata": {},
   "outputs": [],
   "source": [
    "normalize_3_pre_processing_setup = setup(\n",
    "                                    dataset, \n",
    "                                    target = 'Label',\n",
    "                                    date_features = ['Timestamp'],\n",
    "                                    create_date_columns = ['hour', 'minute', 'second', 'day', 'month'],\n",
    "                                    imputation_type = 'simple',\n",
    "                                    numeric_imputation = 'mean',\n",
    "                                    categorical_imputation = 'mode',\n",
    "                                    fold_strategy = 'stratifiedkfold',\n",
    "                                    fold = 10,\n",
    "                                    fix_imbalance = True,\n",
    "                                    fix_imbalance_method = 'SMOTE',\n",
    "                                    normalize = True,\n",
    "                                    normalize_method = 'maxabs'\n",
    "                                    )"
   ]
  },
  {
   "cell_type": "code",
   "execution_count": null,
   "metadata": {},
   "outputs": [],
   "source": [
    "result = test_and_save_pre_processing_approach('normalize_3_pre_processing', normalize_3_pre_processing_setup)\n",
    "models_comparison_normalize_3 = result[0]\n",
    "dataset_normalize_3_pre_processing = result[1]\n",
    "\n",
    "\n",
    "\n",
    "\n",
    "\n",
    "\n",
    "\n",
    "\n",
    "\n"
   ]
  },
  {
   "cell_type": "code",
   "execution_count": null,
   "metadata": {},
   "outputs": [],
   "source": [
    "normalize_4_pre_processing_setup = setup(\n",
    "                                    dataset, \n",
    "                                    target = 'Label',\n",
    "                                    date_features = ['Timestamp'],\n",
    "                                    create_date_columns = ['hour', 'minute', 'second', 'day', 'month'],\n",
    "                                    imputation_type = 'simple',\n",
    "                                    numeric_imputation = 'mean',\n",
    "                                    categorical_imputation = 'mode',\n",
    "                                    fold_strategy = 'stratifiedkfold',\n",
    "                                    fold = 10,\n",
    "                                    fix_imbalance = True,\n",
    "                                    fix_imbalance_method = 'SMOTE',\n",
    "                                    normalize = True,\n",
    "                                    # Test different zscore\n",
    "                                    normalize_method = 'robust'\n",
    "                                    )"
   ]
  },
  {
   "cell_type": "code",
   "execution_count": null,
   "metadata": {},
   "outputs": [],
   "source": [
    "result = test_and_save_pre_processing_approach('normalize_4_pre_processing', normalize_4_pre_processing_setup)\n",
    "models_comparison_normalize_4 = result[0]\n",
    "dataset_normalize_4_pre_processing = result[1]"
   ]
  },
  {
   "cell_type": "code",
   "execution_count": null,
   "metadata": {},
   "outputs": [],
   "source": [
    "Normalize_Types = {\n",
    "    \"Z-score\": models_comparison_normalize,\n",
    "    \"Min-Max\": models_comparison_normalize_2,\n",
    "    \"MaxAbs\": models_comparison_normalize_3,\n",
    "    \"Robust\": models_comparison_normalize_4\n",
    "}\n",
    "\n",
    "\n",
    "compare_metrics(Normalize_Types, 'normalize_types')"
   ]
  },
  {
   "cell_type": "code",
   "execution_count": null,
   "metadata": {},
   "outputs": [],
   "source": [
    "Normalize = {\n",
    "    \"Sem normalização\": models_comparison_fix_imbalance,\n",
    "    \"Normalizado (MinMax)\": models_comparison_normalize_2,\n",
    "}\n",
    "\n",
    "\n",
    "compare_metrics(Normalize, 'normalize')"
   ]
  },
  {
   "cell_type": "markdown",
   "metadata": {},
   "source": [
    "#### Conclusion\n",
    "\n",
    "Analyzing mainly the Recall and F1 Score it was possible to see:\n",
    "\n",
    "- The maxabs was the most suitable normalize method\n",
    "- This normalization generally improved the Recall and F1 Score of the main algorithms\n",
    "- The only exceptions were the F1 Score of the ada and gbc algorithms, that slightly decreased \n",
    "\n",
    "So this method could be a good choice for pre-processing\n"
   ]
  },
  {
   "cell_type": "markdown",
   "metadata": {},
   "source": [
    "### 2.7 Feature Transform pre-processing"
   ]
  },
  {
   "cell_type": "code",
   "execution_count": null,
   "metadata": {},
   "outputs": [],
   "source": [
    "transformation_feature_pre_processing_setup = setup(\n",
    "                                                dataset, \n",
    "                                                target = 'Label',\n",
    "                                                \n",
    "                                                imputation_type = 'simple',\n",
    "                                                numeric_imputation = 'mean',\n",
    "                                                categorical_imputation = 'mode',\n",
    "                                                fold_strategy = 'stratifiedkfold',\n",
    "                                                fold = 10,\n",
    "                                                fix_imbalance = True,\n",
    "                                                fix_imbalance_method = 'SMOTE',\n",
    "                                                transformation = True,\n",
    "                                                transformation_method = 'yeo-johnson'\n",
    "                                                )"
   ]
  },
  {
   "cell_type": "code",
   "execution_count": null,
   "metadata": {},
   "outputs": [],
   "source": [
    "result = test_and_save_pre_processing_approach('transformation_feature_pre_processing', transformation_feature_pre_processing_setup)\n",
    "models_comparison_transformation_feature = result[0]\n",
    "dataset_transformation_feature_pre_processing = result[1]"
   ]
  },
  {
   "cell_type": "code",
   "execution_count": null,
   "metadata": {},
   "outputs": [],
   "source": [
    "transformation_feature_2_pre_processing_setup = setup(\n",
    "                                                dataset, \n",
    "                                                target = 'Label',\n",
    "                                                \n",
    "                                                imputation_type = 'simple',\n",
    "                                                numeric_imputation = 'mean',\n",
    "                                                categorical_imputation = 'mode',\n",
    "                                                fold_strategy = 'stratifiedkfold',\n",
    "                                                fold = 10,\n",
    "                                                fix_imbalance = True,\n",
    "                                                fix_imbalance_method = 'SMOTE',\n",
    "                                                transformation = True,\n",
    "                                                transformation_method = 'quantile'\n",
    "                                                )"
   ]
  },
  {
   "cell_type": "code",
   "execution_count": null,
   "metadata": {},
   "outputs": [],
   "source": [
    "result = test_and_save_pre_processing_approach('transformation_feature_2_pre_processing', transformation_feature_2_pre_processing_setup)\n",
    "models_comparison_transformation_feature_2 = result[0]\n",
    "dataset_transformation_feature_2_pre_processing = result[1]"
   ]
  },
  {
   "cell_type": "code",
   "execution_count": null,
   "metadata": {},
   "outputs": [],
   "source": []
  },
  {
   "cell_type": "code",
   "execution_count": null,
   "metadata": {},
   "outputs": [],
   "source": [
    "Yeo_X_Quantile = {\n",
    "    \"Yeo-Johnson\": models_comparison_transformation_feature,\n",
    "    \"Quantile\": models_comparison_transformation_feature_2,\n",
    "}\n",
    "\n",
    "\n",
    "compare_metrics(Yeo_X_Quantile, 'yeo_x_quantile')"
   ]
  },
  {
   "cell_type": "code",
   "execution_count": null,
   "metadata": {},
   "outputs": [],
   "source": [
    "Transformation_Feature_X_Normalize = {\n",
    "    \"Normalização (Min-Max)\": models_comparison_normalize_2,\n",
    "    \"Yeo-Johnson\": models_comparison_transformation_feature,\n",
    "    # \"Nenhum\": models_comparison_fix_imbalance\n",
    "}\n",
    "\n",
    "\n",
    "compare_metrics(Transformation_Feature_X_Normalize, 'transformation_feature_X_normalize')"
   ]
  },
  {
   "cell_type": "markdown",
   "metadata": {},
   "source": [
    "#### Conclusion\n",
    "\n",
    "Analyzing mainly the Recall and F1 Score it was possible to see:\n",
    "\n",
    "- This method brign only deterioration to the mainly algortithms that we are considering\n",
    "\n",
    "So we will not use the Transformation feature method"
   ]
  },
  {
   "cell_type": "markdown",
   "metadata": {},
   "source": [
    "fold_pre_processing_setup = setup(\n",
    "    dataset, \n",
    "    target = 'Label',\n",
    "    date_features = ['Timestamp'],\n",
    "    create_date_columns = ['hour', 'minute', 'second', 'day', 'month'],\n",
    "    imputation_type = 'simple',\n",
    "    numeric_imputation = 'mean',\n",
    "    categorical_imputation = 'mode',\n",
    "    fold_strategy = 'stratifiedkfold',\n",
    "    fold = 10,\n",
    "    fix_imbalance = True,\n",
    "    fix_imbalance_method = 'SMOTE',\n",
    "    \n",
    "    )"
   ]
  },
  {
   "cell_type": "markdown",
   "metadata": {},
   "source": [
    "### 2.8 Data Split Stratification"
   ]
  },
  {
   "cell_type": "code",
   "execution_count": null,
   "metadata": {},
   "outputs": [],
   "source": [
    "control_pre_processing_setup = setup(\n",
    "                                        dataset, \n",
    "                                        target = 'Label',\n",
    "                                        date_features = ['Timestamp'],\n",
    "                                        create_date_columns = ['hour', 'minute', 'second', 'day', 'month'],\n",
    "                                        imputation_type = 'simple',\n",
    "                                        numeric_imputation = 'mean',\n",
    "                                        categorical_imputation = 'mode',\n",
    "                                        fold_strategy = 'stratifiedkfold',\n",
    "                                        fold = 10,\n",
    "                                        fix_imbalance = True,\n",
    "                                        fix_imbalance_method = 'SMOTE',\n",
    "                                        transformation = True,\n",
    "                                        transformation_method = 'yeo-johnson',\n",
    "                                        \n",
    "                                        )\n"
   ]
  },
  {
   "cell_type": "code",
   "execution_count": null,
   "metadata": {},
   "outputs": [],
   "source": [
    "result = test_and_save_pre_processing_approach('control_pre_processing', control_pre_processing_setup)\n",
    "models_comparison_control = result[0]\n",
    "dataset_control_pre_processing = result[1]"
   ]
  },
  {
   "cell_type": "code",
   "execution_count": null,
   "metadata": {},
   "outputs": [],
   "source": [
    "univariate_feature_selection_pre_processing_setup = setup(\n",
    "                                        dataset, \n",
    "                                        target = 'Label',\n",
    "                                        date_features = ['Timestamp'],\n",
    "                                        create_date_columns = ['hour', 'minute', 'second', 'day', 'month'],\n",
    "                                        imputation_type = 'simple',\n",
    "                                        numeric_imputation = 'mean',\n",
    "                                        categorical_imputation = 'mode',\n",
    "                                        fold_strategy = 'stratifiedkfold',\n",
    "                                        fold = 10,\n",
    "                                        fix_imbalance = True,\n",
    "                                        fix_imbalance_method = 'SMOTE',\n",
    "                                        transformation = True,\n",
    "                                        transformation_method = 'yeo-johnson',\n",
    "                                        feature_selection = True,\n",
    "                                        feature_selection_method = 'univariate'\n",
    "                                        )\n",
    "\n",
    "result = test_and_save_pre_processing_approach('univariate_feature_selection_pre_processing', univariate_feature_selection_pre_processing_setup)\n",
    "models_comparison_univariate_feature_selection = result[0]\n",
    "dataset_univariate_feature_selection_pre_processing = result[1]"
   ]
  },
  {
   "cell_type": "code",
   "execution_count": null,
   "metadata": {},
   "outputs": [],
   "source": [
    "classic_feature_selection_pre_processing_setup = setup(\n",
    "                                        dataset, \n",
    "                                        target = 'Label',\n",
    "                                        date_features = ['Timestamp'],\n",
    "                                        create_date_columns = ['hour', 'minute', 'second', 'day', 'month'],\n",
    "                                        imputation_type = 'simple',\n",
    "                                        numeric_imputation = 'mean',\n",
    "                                        categorical_imputation = 'mode',\n",
    "                                        fold_strategy = 'stratifiedkfold',\n",
    "                                        fold = 10,\n",
    "                                        fix_imbalance = True,\n",
    "                                        fix_imbalance_method = 'SMOTE',\n",
    "                                        transformation = True,\n",
    "                                        transformation_method = 'yeo-johnson',\n",
    "                                        feature_selection = True,\n",
    "                                        feature_selection_method = 'classic'\n",
    "                                        )\n",
    "\n",
    "result = test_and_save_pre_processing_approach('classic_feature_selection_pre_processing', classic_feature_selection_pre_processing_setup)\n",
    "models_comparison_classic_feature_selection = result[0]\n",
    "dataset_classic_feature_selection_pre_processing = result[1]"
   ]
  },
  {
   "cell_type": "code",
   "execution_count": null,
   "metadata": {},
   "outputs": [],
   "source": [
    "sequential_feature_selection_pre_processing_setup = setup(\n",
    "                                        dataset, \n",
    "                                        target = 'Label',\n",
    "                                        date_features = ['Timestamp'],\n",
    "                                        create_date_columns = ['hour', 'minute', 'second', 'day', 'month'],\n",
    "                                        imputation_type = 'simple',\n",
    "                                        numeric_imputation = 'mean',\n",
    "                                        categorical_imputation = 'mode',\n",
    "                                        fold_strategy = 'stratifiedkfold',\n",
    "                                        fold = 10,\n",
    "                                        fix_imbalance = True,\n",
    "                                        fix_imbalance_method = 'SMOTE',\n",
    "                                        transformation = True,\n",
    "                                        transformation_method = 'yeo-johnson',\n",
    "                                        feature_selection = True,\n",
    "                                        feature_selection_method = 'sequential'\n",
    "                                        )\n",
    "\n",
    "result = test_and_save_pre_processing_approach('sequential_feature_selection_pre_processing', sequential_feature_selection_pre_processing_setup)\n",
    "models_comparison_sequential_feature_selection = result[0]\n",
    "dataset_sequential_feature_selection_pre_processing = result[1]"
   ]
  },
  {
   "cell_type": "code",
   "execution_count": null,
   "metadata": {},
   "outputs": [],
   "source": [
    "\n",
    "Feature_Selection = {\n",
    "    \"Seleção de Colunas\": models_comparison_classic_feature_selection,\n",
    "    # \"Univariável\": models_comparison_univariate_feature_selection,\n",
    "    \"Sem Seleção\": models_comparison_control\n",
    "}\n",
    "\n",
    "\n",
    "compare_metrics(Feature_Selection, 'Feature_Selection')"
   ]
  },
  {
   "cell_type": "markdown",
   "metadata": {},
   "source": [
    "### 2.9 Remoção de colinearidade"
   ]
  },
  {
   "cell_type": "code",
   "execution_count": null,
   "metadata": {},
   "outputs": [],
   "source": [
    "remove_multicollinearity_pre_processing_setup = setup(\n",
    "                                        dataset, \n",
    "                                        target = 'Label',\n",
    "                                        date_features = ['Timestamp'],\n",
    "                                        create_date_columns = ['hour', 'minute', 'second', 'day', 'month'],\n",
    "                                        imputation_type = 'simple',\n",
    "                                        numeric_imputation = 'mean',\n",
    "                                        categorical_imputation = 'mode',\n",
    "                                        fold_strategy = 'stratifiedkfold',\n",
    "                                        fold = 10,\n",
    "                                        fix_imbalance = True,\n",
    "                                        fix_imbalance_method = 'SMOTE',\n",
    "                                        transformation = True,\n",
    "                                        transformation_method = 'yeo-johnson',\n",
    "                                        remove_multicollinearity = True\n",
    "                                        )\n",
    "\n",
    "result = test_and_save_pre_processing_approach('remove_multicollinearity_pre_processing', remove_multicollinearity_pre_processing_setup)\n",
    "models_comparison_remove_multicollinearity = result[0]\n",
    "dataset_remove_multicollinearity_pre_processing = result[1]"
   ]
  },
  {
   "cell_type": "code",
   "execution_count": null,
   "metadata": {},
   "outputs": [],
   "source": [
    "Remove_Multicollinearity = {\n",
    "    \"Remoção de Multicolinearidade\": models_comparison_remove_multicollinearity,\n",
    "    \"Sem Remoção\": models_comparison_control,\n",
    "}\n",
    "\n",
    "\n",
    "compare_metrics(Remove_Multicollinearity, 'Remove_Multicollinearity')"
   ]
  },
  {
   "cell_type": "markdown",
   "metadata": {},
   "source": [
    "### 2.11 PCA"
   ]
  },
  {
   "cell_type": "code",
   "execution_count": null,
   "metadata": {},
   "outputs": [],
   "source": [
    "linear_pca_pre_processing_setup = setup(\n",
    "                                        dataset, \n",
    "                                        target = 'Label',\n",
    "                                        date_features = ['Timestamp'],\n",
    "                                        create_date_columns = ['hour', 'minute', 'second', 'day', 'month'],\n",
    "                                        imputation_type = 'simple',\n",
    "                                        numeric_imputation = 'mean',\n",
    "                                        categorical_imputation = 'mode',\n",
    "                                        fold_strategy = 'stratifiedkfold',\n",
    "                                        fold = 10,\n",
    "                                        fix_imbalance = True,\n",
    "                                        fix_imbalance_method = 'SMOTE',\n",
    "                                        transformation = True,\n",
    "                                        transformation_method = 'yeo-johnson',\n",
    "                                        pca = True,\n",
    "                                        pca_method = 'linear',\n",
    "                                        pca_components = 70\n",
    "                                        )\n",
    "\n",
    "result = test_and_save_pre_processing_approach('linear_pca_pre_processing', linear_pca_pre_processing_setup)\n",
    "models_comparison_linear_pca = result[0]\n",
    "dataset_linear_pca_pre_processing = result[1]"
   ]
  },
  {
   "cell_type": "code",
   "execution_count": null,
   "metadata": {},
   "outputs": [],
   "source": [
    "kernel_pca_pre_processing_setup = setup(\n",
    "                                        dataset, \n",
    "                                        target = 'Label',\n",
    "                                        date_features = ['Timestamp'],\n",
    "                                        create_date_columns = ['hour', 'minute', 'second', 'day', 'month'],\n",
    "                                        imputation_type = 'simple',\n",
    "                                        numeric_imputation = 'mean',\n",
    "                                        categorical_imputation = 'mode',\n",
    "                                        fold_strategy = 'stratifiedkfold',\n",
    "                                        fold = 10,\n",
    "                                        fix_imbalance = True,\n",
    "                                        fix_imbalance_method = 'SMOTE',\n",
    "                                        transformation = True,\n",
    "                                        transformation_method = 'yeo-johnson',\n",
    "                                        pca = True,\n",
    "                                        pca_method = 'kernel',\n",
    "                                        pca_components = 70\n",
    "                                        )\n",
    "\n",
    "result = test_and_save_pre_processing_approach('kernel_pca_pre_processing', kernel_pca_pre_processing_setup)\n",
    "models_comparison_kernel_pca = result[0]\n",
    "dataset_kernel_pca_pre_processing = result[1]"
   ]
  },
  {
   "cell_type": "code",
   "execution_count": null,
   "metadata": {},
   "outputs": [],
   "source": [
    "len(dataset_control_pre_processing.columns)"
   ]
  },
  {
   "cell_type": "code",
   "execution_count": null,
   "metadata": {},
   "outputs": [],
   "source": [
    "incremental_pca_pre_processing_setup = setup(\n",
    "                                        dataset, \n",
    "                                        target = 'Label',\n",
    "                                        date_features = ['Timestamp'],\n",
    "                                        create_date_columns = ['hour', 'minute', 'second', 'day', 'month'],\n",
    "                                        imputation_type = 'simple',\n",
    "                                        numeric_imputation = 'mean',\n",
    "                                        categorical_imputation = 'mode',\n",
    "                                        fold_strategy = 'stratifiedkfold',\n",
    "                                        fold = 10,\n",
    "                                        fix_imbalance = True,\n",
    "                                        fix_imbalance_method = 'SMOTE',\n",
    "                                        transformation = True,\n",
    "                                        transformation_method = 'yeo-johnson',\n",
    "                                        pca = True,\n",
    "                                        pca_method = 'incremental',\n",
    "                                        pca_components = 70\n",
    "                                        )\n",
    "\n",
    "result = test_and_save_pre_processing_approach('incremental_pca_pre_processing', incremental_pca_pre_processing_setup)\n",
    "models_comparison_incremental_pca = result[0]\n",
    "dataset_incremental_pca_pre_processing = result[1]"
   ]
  },
  {
   "cell_type": "code",
   "execution_count": null,
   "metadata": {},
   "outputs": [],
   "source": [
    "PCA = {\n",
    "    \"Linear\": models_comparison_linear_pca,\n",
    "    # \"Kernel\": models_comparison_kernel_pca,\n",
    "    \"Incremental\": models_comparison_incremental_pca,\n",
    "    \"Sem Remoção\": models_comparison_control,\n",
    "}\n",
    "\n",
    "\n",
    "compare_metrics(PCA, 'PCA')"
   ]
  },
  {
   "cell_type": "markdown",
   "metadata": {},
   "source": [
    "### 2.11 Data Split Stratification"
   ]
  },
  {
   "cell_type": "code",
   "execution_count": null,
   "metadata": {},
   "outputs": [],
   "source": [
    "data_split_pre_processing_setup = setup(\n",
    "    dataset, \n",
    "    target = 'Label',\n",
    "    date_features = ['Timestamp'],\n",
    "    create_date_columns = ['hour', 'minute', 'second', 'day', 'month'],\n",
    "    imputation_type = 'iterative',\n",
    "    numeric_iterative_imputer = 'lightgbm',\n",
    "    fix_imbalance = True,\n",
    "    fix_imbalance_method = 'SMOTE',\n",
    "    transformation = True,\n",
    "    transformation_method = 'yeo-johnson',\n",
    "    fold_strategy = 'stratifiedkfold',\n",
    "    fold = 10,\n",
    "    data_split_shuffle = True,\n",
    "    data_split_stratify = True\n",
    "    )\n",
    "\n",
    "result = test_and_save_pre_processing_approach('data_split_pre_processing', data_split_pre_processing_setup)\n",
    "models_comparison_data_split = result[0]\n",
    "dataset_data_split_pre_processing = result[1]"
   ]
  },
  {
   "cell_type": "code",
   "execution_count": null,
   "metadata": {},
   "outputs": [],
   "source": [
    "Data_Stratify = {\n",
    "    \"Estratificado\": models_comparison_data_split,\n",
    "    \"Não estratificado\": models_comparison_transformation_feature\n",
    "}\n",
    "\n",
    "\n",
    "compare_metrics(Data_Stratify, 'data_stratify')"
   ]
  },
  {
   "cell_type": "markdown",
   "metadata": {},
   "source": [
    "### 2.9 Fold Strategy"
   ]
  },
  {
   "cell_type": "code",
   "execution_count": null,
   "metadata": {},
   "outputs": [],
   "source": [
    "kfold_pre_processing_setup = setup(\n",
    "    dataset, \n",
    "    target = 'Label',\n",
    "    date_features = ['Timestamp'],\n",
    "    create_date_columns = ['hour', 'minute', 'second', 'day', 'month'],\n",
    "    imputation_type = 'iterative',\n",
    "    numeric_iterative_imputer = 'lightgbm',\n",
    "    fix_imbalance = True,\n",
    "    fix_imbalance_method = 'SMOTE',\n",
    "    transformation = True,\n",
    "    transformation_method = 'yeo-johnson',\n",
    "    fold_strategy = 'kfold',\n",
    "    fold = 10\n",
    "    )\n",
    "\n",
    "result = test_and_save_pre_processing_approach('kfold_pre_processing', kfold_pre_processing_setup)\n",
    "models_comparison_kfold = result[0]\n",
    "dataset_kfold_pre_processing = result[1]"
   ]
  },
  {
   "cell_type": "code",
   "execution_count": null,
   "metadata": {},
   "outputs": [],
   "source": [
    "teste_pre_processing_setup = setup(\n",
    "    dataset, \n",
    "    target = 'Label',\n",
    "    date_features = ['Timestamp'],\n",
    "    create_date_columns = ['hour', 'minute', 'second', 'day', 'month'],\n",
    "    imputation_type = 'iterative',\n",
    "    numeric_iterative_imputer = 'lightgbm',\n",
    "    fix_imbalance = True,\n",
    "    fix_imbalance_method = 'SMOTE',\n",
    "    transformation = True,\n",
    "    transformation_method = 'quantile',\n",
    "    fold_strategy = 'stratifiedkfold',\n",
    "    fold = 10\n",
    "    )\n",
    "\n",
    "result = test_and_save_pre_processing_approach('teste_pre_processing', teste_pre_processing_setup)\n",
    "models_comparison_teste = result[0]\n",
    "dataset_teste_pre_processing = result[1]"
   ]
  },
  {
   "cell_type": "code",
   "execution_count": null,
   "metadata": {},
   "outputs": [],
   "source": [
    "Fold_Strategy = {\n",
    "    \"Kfold\": models_comparison_kfold,\n",
    "    \"Stratifiedkfold\": models_comparison_transformation_feature\n",
    "}\n",
    "\n",
    "\n",
    "compare_metrics(Fold_Strategy, 'fold_strategy')"
   ]
  },
  {
   "cell_type": "markdown",
   "metadata": {},
   "source": [
    "## Final Pre Processing"
   ]
  },
  {
   "cell_type": "code",
   "execution_count": null,
   "metadata": {},
   "outputs": [],
   "source": [
    "setup_pre_processing_A = setup(\n",
    "    dataset, \n",
    "    target = 'Label',\n",
    "    date_features = ['Timestamp'],\n",
    "    create_date_columns = ['hour', 'minute', 'second', 'day', 'month'],\n",
    "    imputation_type = 'iterative',\n",
    "    numeric_iterative_imputer = 'lightgbm',\n",
    "    fix_imbalance = True,\n",
    "    fix_imbalance_method = 'SMOTE',\n",
    "    transformation = True,\n",
    "    transformation_method = 'yeo-johnson',\n",
    "    fold_strategy = 'kfold',\n",
    "    fold = 10\n",
    "    )\n",
    "\n",
    "result = test_and_save_pre_processing_approach('A_pre_processing', setup_pre_processing_A)\n",
    "models_comparison_A = result[0]\n",
    "pre_processed_dataset_A = result[1]"
   ]
  },
  {
   "cell_type": "code",
   "execution_count": null,
   "metadata": {},
   "outputs": [],
   "source": [
    "setup_pre_processing_B = setup(\n",
    "    dataset, \n",
    "    target = 'Label',\n",
    "    date_features = ['Timestamp'],\n",
    "    create_date_columns = ['hour', 'minute', 'second', 'day', 'month'],\n",
    "    imputation_type = 'iterative',\n",
    "    numeric_iterative_imputer = 'lightgbm',\n",
    "    fix_imbalance = True,\n",
    "    fix_imbalance_method = 'SMOTE',\n",
    "    transformation = True,\n",
    "    transformation_method = 'quantile',\n",
    "    fold_strategy = 'stratifiedkfold',\n",
    "    fold = 10\n",
    "    )\n",
    "\n",
    "result = test_and_save_pre_processing_approach('B_pre_processing', setup_pre_processing_B)\n",
    "models_comparison_B = result[0]\n",
    "pre_processed_dataset_B = result[1]"
   ]
  },
  {
   "cell_type": "code",
   "execution_count": null,
   "metadata": {},
   "outputs": [],
   "source": [
    "Teste_Final = {\n",
    "    \"Pre-processamento A\": models_comparison_A,\n",
    "    \"Pre-processamento B\": models_comparison_B,\n",
    "    \"Generica\": models_comparison_generic\n",
    "}\n",
    "\n",
    "\n",
    "compare_metrics(Teste_Final, 'teste-final')"
   ]
  },
  {
   "cell_type": "code",
   "execution_count": null,
   "metadata": {},
   "outputs": [],
   "source": [
    "save_pre_processed_dataset(pre_processed_dataset_A, \"pre_processed_dataset_A\")\n",
    "save_pre_processed_dataset(pre_processed_dataset_B, \"pre_processed_dataset_B\")"
   ]
  },
  {
   "cell_type": "code",
   "execution_count": null,
   "metadata": {},
   "outputs": [],
   "source": []
  },
  {
   "cell_type": "code",
   "execution_count": null,
   "metadata": {},
   "outputs": [],
   "source": []
  },
  {
   "cell_type": "code",
   "execution_count": null,
   "metadata": {},
   "outputs": [],
   "source": []
  }
 ],
 "metadata": {
  "colab": {
   "provenance": []
  },
  "kernelspec": {
   "display_name": "Python 3 (ipykernel)",
   "language": "python",
   "name": "python3"
  },
  "language_info": {
   "codemirror_mode": {
    "name": "ipython",
    "version": 3
   },
   "file_extension": ".py",
   "mimetype": "text/x-python",
   "name": "python",
   "nbconvert_exporter": "python",
   "pygments_lexer": "ipython3",
   "version": "3.10.12"
  }
 },
 "nbformat": 4,
 "nbformat_minor": 4
}
