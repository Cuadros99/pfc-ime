{
 "cells": [
  {
   "cell_type": "code",
   "execution_count": 2,
   "metadata": {},
   "outputs": [],
   "source": [
    "import pandas as pd\n",
    "import os"
   ]
  },
  {
   "cell_type": "code",
   "execution_count": 3,
   "metadata": {},
   "outputs": [],
   "source": [
    "dataset_path = os.path.join(os.getcwd(), '..', 'Datasets', 'CSE-CIC-IDS2018', 'raw', 'original','02-22-2018.csv')"
   ]
  },
  {
   "cell_type": "code",
   "execution_count": null,
   "metadata": {},
   "outputs": [],
   "source": [
    "# Fração dos logs que serão amostrados no dataframe parcial para testes:\n",
    "\n",
    "# Fração de logs benígnos\n",
    "frac_benign = 0.01\n",
    "# Fração de logs malígnos\n",
    "frac_malign = 0.1"
   ]
  },
  {
   "cell_type": "code",
   "execution_count": 8,
   "metadata": {},
   "outputs": [
    {
     "data": {
      "text/plain": [
       "Label\n",
       "Benign              10482\n",
       "Brute Force -Web       24\n",
       "Brute Force -XSS        7\n",
       "SQL Injection           3\n",
       "Name: count, dtype: int64"
      ]
     },
     "execution_count": 8,
     "metadata": {},
     "output_type": "execute_result"
    }
   ],
   "source": [
    "dataset = pd.read_csv(dataset_path)\n",
    "\n",
    "# Identificar as diferentes categorias na coluna \"Label\"\n",
    "categorias = dataset['Label'].unique()\n",
    "\n",
    "# Inicializar uma lista para armazenar as amostras de cada categoria\n",
    "amostras_por_categoria = []\n",
    "\n",
    "# Iterar sobre cada categoria\n",
    "for categoria in categorias:\n",
    "    # Selecionar as entradas correspondentes à categoria atual\n",
    "    entradas_categoria = dataset[dataset['Label'] == categoria]\n",
    "    \n",
    "    # Calcular quantas entradas representam 5% do total para esta categoria\n",
    "    if categoria == 'Benign':\n",
    "        tamanho_amostra = int(len(entradas_categoria) * frac_benign)\n",
    "    else:\n",
    "        tamanho_amostra = int(len(entradas_categoria) * frac_malign)\n",
    "    \n",
    "    # Selecionar aleatoriamente as entradas da categoria atual\n",
    "    amostra_categoria = entradas_categoria.sample(tamanho_amostra)\n",
    "    \n",
    "    # Adicionar a amostra da categoria à lista de amostras\n",
    "    amostras_por_categoria.append(amostra_categoria)\n",
    "\n",
    "# Concatenar as amostras de todas as categorias para formar a amostra final\n",
    "amostra_final = pd.concat(amostras_por_categoria)\n",
    "\n",
    "# Exibir a amostra final\n",
    "amostra_final[\"Label\"].value_counts()"
   ]
  },
  {
   "cell_type": "code",
   "execution_count": 9,
   "metadata": {},
   "outputs": [
    {
     "data": {
      "text/plain": [
       "Label\n",
       "0    10482\n",
       "1       34\n",
       "Name: count, dtype: int64"
      ]
     },
     "execution_count": 9,
     "metadata": {},
     "output_type": "execute_result"
    }
   ],
   "source": [
    "# Transforma o Target do dataset parcial em 0 (benígno) ou 1 (malígno)\n",
    "amostra_final['Label'] = amostra_final['Label'].apply(lambda x: 0 if x == 'Benign' else 1)\n",
    "amostra_final['Label'].value_counts()"
   ]
  },
  {
   "cell_type": "code",
   "execution_count": 10,
   "metadata": {},
   "outputs": [],
   "source": [
    "# Armazenar o dataset parcial criado na pasta Datasets\n",
    "partial_dataset_path = os.path.join(os.getcwd(), '..', 'Datasets', 'CSE-CIC-IDS2018', 'raw','0.1-partial-dataset.csv')\n",
    "amostra_final.to_csv(partial_dataset_path, index=False)"
   ]
  }
 ],
 "metadata": {
  "kernelspec": {
   "display_name": "venv",
   "language": "python",
   "name": "python3"
  },
  "language_info": {
   "codemirror_mode": {
    "name": "ipython",
    "version": 3
   },
   "file_extension": ".py",
   "mimetype": "text/x-python",
   "name": "python",
   "nbconvert_exporter": "python",
   "pygments_lexer": "ipython3",
   "version": "3.11.9"
  }
 },
 "nbformat": 4,
 "nbformat_minor": 2
}
