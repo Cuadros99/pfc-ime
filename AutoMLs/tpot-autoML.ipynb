{
 "cells": [
  {
   "cell_type": "code",
   "execution_count": 1,
   "metadata": {},
   "outputs": [
    {
     "name": "stdout",
     "output_type": "stream",
     "text": [
      "Requirement already satisfied: setuptools in c:\\users\\felip\\appdata\\local\\programs\\python\\python312\\lib\\site-packages (69.5.1)\n",
      "Note: you may need to restart the kernel to use updated packages.\n"
     ]
    },
    {
     "name": "stderr",
     "output_type": "stream",
     "text": [
      "c:\\Users\\felip\\AppData\\Local\\Programs\\Python\\Python312\\Lib\\site-packages\\tpot\\builtins\\__init__.py:36: UserWarning: Warning: optional dependency `torch` is not available. - skipping import of NN models.\n",
      "  warnings.warn(\"Warning: optional dependency `torch` is not available. - skipping import of NN models.\")\n"
     ]
    }
   ],
   "source": [
    "%pip install setuptools\n",
    "from tpot import TPOTClassifier\n",
    "from sklearn.model_selection import train_test_split\n",
    "import pandas as pd\n",
    "from sklearn.metrics import make_scorer, fbeta_score"
   ]
  },
  {
   "cell_type": "code",
   "execution_count": 4,
   "metadata": {},
   "outputs": [],
   "source": [
    "beta = 5\n",
    "fbeta_df = pd.read_csv('../../../../preprocessing/datasets/amostra_5_0_or_1.csv')\n",
    "\n",
    "X_train, X_test, y_train, y_test = train_test_split(fbeta_df.drop('Label', axis=1), fbeta_df['Label'], train_size=0.75, test_size=0.25, random_state=42)\n"
   ]
  },
  {
   "cell_type": "code",
   "execution_count": 5,
   "metadata": {},
   "outputs": [],
   "source": [
    "def my_custom_fbeta_score(y_true, y_pred):\n",
    "    return fbeta_score(y_true, y_pred, beta=beta)"
   ]
  },
  {
   "cell_type": "code",
   "execution_count": 6,
   "metadata": {},
   "outputs": [
    {
     "name": "stdout",
     "output_type": "stream",
     "text": [
      "Imputing missing values in feature set\n"
     ]
    },
    {
     "data": {
      "application/vnd.jupyter.widget-view+json": {
       "model_id": "75233de6269342498eafc841fe6ab23e",
       "version_major": 2,
       "version_minor": 0
      },
      "text/plain": [
       "Optimization Progress:   0%|          | 0/300 [00:00<?, ?pipeline/s]"
      ]
     },
     "metadata": {},
     "output_type": "display_data"
    },
    {
     "name": "stdout",
     "output_type": "stream",
     "text": [
      "\n",
      "Generation 1 - Current best internal CV score: 0.9889674369258292\n",
      "\n",
      "Generation 2 - Current best internal CV score: 0.9889674369258292\n",
      "\n",
      "Generation 3 - Current best internal CV score: 0.9952013062277452\n",
      "\n",
      "Generation 4 - Current best internal CV score: 0.9952013062277452\n",
      "\n",
      "Generation 5 - Current best internal CV score: 0.9952013062277452\n",
      "\n",
      "Best pipeline: XGBClassifier(input_matrix, learning_rate=0.5, max_depth=10, min_child_weight=17, n_estimators=100, n_jobs=1, subsample=1.0, verbosity=0)\n",
      "Imputing missing values in feature set\n",
      "0.9950041309511515\n"
     ]
    }
   ],
   "source": [
    "my_custom_scorer = make_scorer(my_custom_fbeta_score, greater_is_better=True)\n",
    "\n",
    "tpot = TPOTClassifier(generations=5, population_size=50, verbosity=2, random_state=42,scoring=my_custom_scorer)\n",
    "\n",
    "tpot.fit(X_train, y_train)\n",
    "\n",
    "print(tpot.score(X_test, y_test))\n",
    "tpot.export('tpot_dataset_5_0_or_1_pipeline3.py')"
   ]
  },
  {
   "cell_type": "code",
   "execution_count": 8,
   "metadata": {},
   "outputs": [],
   "source": [
    "#Amostra de 1%\n",
    "\n",
    "beta = 5\n",
    "fbeta_df = pd.read_csv('../../../../preprocessing/datasets/amostra_1_of_100_0_or_1.csv')\n",
    "\n",
    "X_train, X_test, y_train, y_test = train_test_split(fbeta_df.drop('Label', axis=1), fbeta_df['Label'], train_size=0.75, test_size=0.25, random_state=42)"
   ]
  },
  {
   "cell_type": "code",
   "execution_count": 9,
   "metadata": {},
   "outputs": [
    {
     "name": "stdout",
     "output_type": "stream",
     "text": [
      "Imputing missing values in feature set\n"
     ]
    },
    {
     "data": {
      "application/vnd.jupyter.widget-view+json": {
       "model_id": "a3be066d2d5448a58a21c7f6d5224296",
       "version_major": 2,
       "version_minor": 0
      },
      "text/plain": [
       "Optimization Progress:   0%|          | 0/300 [00:00<?, ?pipeline/s]"
      ]
     },
     "metadata": {},
     "output_type": "display_data"
    },
    {
     "name": "stdout",
     "output_type": "stream",
     "text": [
      "\n",
      "Generation 1 - Current best internal CV score: 0.9905831372018643\n",
      "\n",
      "Generation 2 - Current best internal CV score: 0.9907064314832585\n",
      "\n",
      "Generation 3 - Current best internal CV score: 0.9915278404251696\n"
     ]
    }
   ],
   "source": [
    "my_custom_scorer = make_scorer(my_custom_fbeta_score, greater_is_better=True)\n",
    "\n",
    "tpot = TPOTClassifier(generations=5, population_size=50, verbosity=2, random_state=42,scoring=my_custom_scorer)\n",
    "\n",
    "tpot.fit(X_train, y_train)\n",
    "\n",
    "print(tpot.score(X_test, y_test))\n",
    "tpot.export('tpot_dataset_1_0_or_1_pipeline3.py')"
   ]
  }
 ],
 "metadata": {
  "kernelspec": {
   "display_name": "Python 3",
   "language": "python",
   "name": "python3"
  },
  "language_info": {
   "codemirror_mode": {
    "name": "ipython",
    "version": 3
   },
   "file_extension": ".py",
   "mimetype": "text/x-python",
   "name": "python",
   "nbconvert_exporter": "python",
   "pygments_lexer": "ipython3",
   "version": "3.12.0"
  }
 },
 "nbformat": 4,
 "nbformat_minor": 2
}
