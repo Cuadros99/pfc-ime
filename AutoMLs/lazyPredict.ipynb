{
 "cells": [
  {
   "cell_type": "code",
   "execution_count": 1,
   "metadata": {},
   "outputs": [],
   "source": [
    "import os\n",
    "\n",
    "import pandas as pd\n",
    "from sklearn.datasets import load_iris\n",
    "from sklearn.model_selection import train_test_split\n",
    "from sklearn.preprocessing import OneHotEncoder\n",
    "from lazypredict.Supervised import LazyClassifier"
   ]
  },
  {
   "cell_type": "code",
   "execution_count": 2,
   "metadata": {},
   "outputs": [],
   "source": [
    "pd.set_option('display.max_rows', None, 'display.max_columns', None)"
   ]
  },
  {
   "cell_type": "code",
   "execution_count": 3,
   "metadata": {},
   "outputs": [],
   "source": [
    "file_path = os.path.join(os.getcwd(), '..', 'Datasets', 'amostra_5_0_or_1.csv')"
   ]
  },
  {
   "cell_type": "code",
   "execution_count": 4,
   "metadata": {},
   "outputs": [],
   "source": [
    "df = pd.read_csv(file_path)"
   ]
  },
  {
   "cell_type": "code",
   "execution_count": null,
   "metadata": {
    "scrolled": true
   },
   "outputs": [],
   "source": [
    "df.head()"
   ]
  },
  {
   "cell_type": "code",
   "execution_count": 6,
   "metadata": {},
   "outputs": [],
   "source": [
    "X = df.drop('Label', axis=1)\n",
    "y = df['Label']"
   ]
  },
  {
   "cell_type": "code",
   "execution_count": 7,
   "metadata": {},
   "outputs": [],
   "source": [
    "# Split the data into training and testing sets\n",
    "X_train, X_test, y_train, y_test = train_test_split(X, y, test_size=0.2, random_state=42)"
   ]
  },
  {
   "cell_type": "code",
   "execution_count": 8,
   "metadata": {},
   "outputs": [],
   "source": [
    "# Initialize LazyClassifier\n",
    "clf = LazyClassifier(verbose=0, ignore_warnings=True, custom_metric=None)"
   ]
  },
  {
   "cell_type": "code",
   "execution_count": 9,
   "metadata": {},
   "outputs": [
    {
     "name": "stderr",
     "output_type": "stream",
     "text": [
      " 59%|█████▊    | 17/29 [19:25<09:58, 49.85s/it] "
     ]
    }
   ],
   "source": [
    "# Fit LazyClassifier\n",
    "models_train, predictions_train = clf.fit(X_train, X_train, y_train, y_train)\n",
    "models_test, predictions_test = clf.fit(X_train, X_test, y_train, y_test)"
   ]
  },
  {
   "cell_type": "code",
   "execution_count": 10,
   "metadata": {},
   "outputs": [
    {
     "name": "stdout",
     "output_type": "stream",
     "text": [
      "                               Accuracy  Balanced Accuracy ROC AUC  F1 Score  \\\n",
      "Model                                                                          \n",
      "LGBMClassifier                     1.00               1.00    None      1.00   \n",
      "BaggingClassifier                  1.00               1.00    None      1.00   \n",
      "XGBClassifier                      1.00               1.00    None      1.00   \n",
      "DecisionTreeClassifier             1.00               1.00    None      1.00   \n",
      "RandomForestClassifier             1.00               1.00    None      1.00   \n",
      "ExtraTreeClassifier                1.00               1.00    None      1.00   \n",
      "ExtraTreesClassifier               1.00               1.00    None      1.00   \n",
      "LabelPropagation                   1.00               1.00    None      1.00   \n",
      "LabelSpreading                     1.00               1.00    None      1.00   \n",
      "QuadraticDiscriminantAnalysis      0.97               0.98    None      0.98   \n",
      "LinearDiscriminantAnalysis         0.97               0.98    None      0.98   \n",
      "SVC                                0.97               0.97    None      0.97   \n",
      "LogisticRegression                 0.97               0.97    None      0.97   \n",
      "AdaBoostClassifier                 0.97               0.97    None      0.97   \n",
      "SGDClassifier                      0.97               0.97    None      0.97   \n",
      "NuSVC                              0.96               0.96    None      0.96   \n",
      "KNeighborsClassifier               0.96               0.96    None      0.96   \n",
      "GaussianNB                         0.95               0.95    None      0.95   \n",
      "LinearSVC                          0.95               0.95    None      0.95   \n",
      "PassiveAggressiveClassifier        0.93               0.93    None      0.93   \n",
      "CalibratedClassifierCV             0.91               0.91    None      0.91   \n",
      "Perceptron                         0.88               0.88    None      0.88   \n",
      "NearestCentroid                    0.87               0.87    None      0.87   \n",
      "RidgeClassifier                    0.85               0.85    None      0.85   \n",
      "RidgeClassifierCV                  0.85               0.85    None      0.85   \n",
      "BernoulliNB                        0.73               0.74    None      0.71   \n",
      "DummyClassifier                    0.34               0.33    None      0.17   \n",
      "\n",
      "                               Time Taken  \n",
      "Model                                      \n",
      "LGBMClassifier                       0.05  \n",
      "BaggingClassifier                    0.03  \n",
      "XGBClassifier                        0.13  \n",
      "DecisionTreeClassifier               0.01  \n",
      "RandomForestClassifier               0.15  \n",
      "ExtraTreeClassifier                  0.00  \n",
      "ExtraTreesClassifier                 0.09  \n",
      "LabelPropagation                     0.01  \n",
      "LabelSpreading                       0.01  \n",
      "QuadraticDiscriminantAnalysis        0.02  \n",
      "LinearDiscriminantAnalysis           0.03  \n",
      "SVC                                  0.01  \n",
      "LogisticRegression                   0.01  \n",
      "AdaBoostClassifier                   0.13  \n",
      "SGDClassifier                        0.01  \n",
      "NuSVC                                0.01  \n",
      "KNeighborsClassifier                 0.03  \n",
      "GaussianNB                           0.01  \n",
      "LinearSVC                            0.01  \n",
      "PassiveAggressiveClassifier          0.02  \n",
      "CalibratedClassifierCV               0.06  \n",
      "Perceptron                           0.01  \n",
      "NearestCentroid                      0.29  \n",
      "RidgeClassifier                      0.02  \n",
      "RidgeClassifierCV                    0.01  \n",
      "BernoulliNB                          0.02  \n",
      "DummyClassifier                      0.01  \n",
      "                               Accuracy  Balanced Accuracy ROC AUC  F1 Score  \\\n",
      "Model                                                                          \n",
      "AdaBoostClassifier                 1.00               1.00    None      1.00   \n",
      "LabelSpreading                     1.00               1.00    None      1.00   \n",
      "XGBClassifier                      1.00               1.00    None      1.00   \n",
      "SVC                                1.00               1.00    None      1.00   \n",
      "SGDClassifier                      1.00               1.00    None      1.00   \n",
      "RandomForestClassifier             1.00               1.00    None      1.00   \n",
      "PassiveAggressiveClassifier        1.00               1.00    None      1.00   \n",
      "NuSVC                              1.00               1.00    None      1.00   \n",
      "LogisticRegression                 1.00               1.00    None      1.00   \n",
      "BaggingClassifier                  1.00               1.00    None      1.00   \n",
      "LinearDiscriminantAnalysis         1.00               1.00    None      1.00   \n",
      "LinearSVC                          1.00               1.00    None      1.00   \n",
      "LabelPropagation                   1.00               1.00    None      1.00   \n",
      "KNeighborsClassifier               1.00               1.00    None      1.00   \n",
      "GaussianNB                         1.00               1.00    None      1.00   \n",
      "ExtraTreesClassifier               1.00               1.00    None      1.00   \n",
      "ExtraTreeClassifier                1.00               1.00    None      1.00   \n",
      "DecisionTreeClassifier             1.00               1.00    None      1.00   \n",
      "LGBMClassifier                     0.97               0.97    None      0.97   \n",
      "QuadraticDiscriminantAnalysis      0.97               0.96    None      0.97   \n",
      "CalibratedClassifierCV             0.97               0.96    None      0.97   \n",
      "Perceptron                         0.93               0.94    None      0.93   \n",
      "NearestCentroid                    0.93               0.93    None      0.93   \n",
      "RidgeClassifier                    0.90               0.90    None      0.90   \n",
      "RidgeClassifierCV                  0.90               0.90    None      0.90   \n",
      "BernoulliNB                        0.83               0.81    None      0.82   \n",
      "DummyClassifier                    0.30               0.33    None      0.14   \n",
      "\n",
      "                               Time Taken  \n",
      "Model                                      \n",
      "AdaBoostClassifier                   0.11  \n",
      "LabelSpreading                       0.01  \n",
      "XGBClassifier                        0.08  \n",
      "SVC                                  0.00  \n",
      "SGDClassifier                        0.02  \n",
      "RandomForestClassifier               0.12  \n",
      "PassiveAggressiveClassifier          0.00  \n",
      "NuSVC                                0.01  \n",
      "LogisticRegression                   0.01  \n",
      "BaggingClassifier                    0.03  \n",
      "LinearDiscriminantAnalysis           0.02  \n",
      "LinearSVC                            0.01  \n",
      "LabelPropagation                     0.01  \n",
      "KNeighborsClassifier                 0.01  \n",
      "GaussianNB                           0.02  \n",
      "ExtraTreesClassifier                 0.08  \n",
      "ExtraTreeClassifier                  0.02  \n",
      "DecisionTreeClassifier               0.01  \n",
      "LGBMClassifier                       0.05  \n",
      "QuadraticDiscriminantAnalysis        0.00  \n",
      "CalibratedClassifierCV               0.04  \n",
      "Perceptron                           0.01  \n",
      "NearestCentroid                      0.01  \n",
      "RidgeClassifier                      0.01  \n",
      "RidgeClassifierCV                    0.00  \n",
      "BernoulliNB                          0.01  \n",
      "DummyClassifier                      0.00  \n"
     ]
    }
   ],
   "source": [
    "# Print the models and their scores\n",
    "print(models_train)\n",
    "print(models_test)"
   ]
  }
 ],
 "metadata": {
  "kernelspec": {
   "display_name": "Python 3 (ipykernel)",
   "language": "python",
   "name": "python3"
  },
  "language_info": {
   "codemirror_mode": {
    "name": "ipython",
    "version": 3
   },
   "file_extension": ".py",
   "mimetype": "text/x-python",
   "name": "python",
   "nbconvert_exporter": "python",
   "pygments_lexer": "ipython3",
   "version": "3.11.9"
  }
 },
 "nbformat": 4,
 "nbformat_minor": 4
}
